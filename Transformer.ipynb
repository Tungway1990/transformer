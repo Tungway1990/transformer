{
 "cells": [
  {
   "cell_type": "markdown",
   "metadata": {
    "id": "HTPHvUz4LLiD"
   },
   "source": [
    "This is a notebook to build vanillia transformer form scratch.\n",
    "\n",
    "Orinigal paper: https://arxiv.org/abs/1706.03762\n",
    "\n",
    "Make reference to: https://www.tensorflow.org/tutorials/text/transformer"
   ]
  },
  {
   "cell_type": "code",
   "execution_count": 1,
   "metadata": {
    "executionInfo": {
     "elapsed": 2425,
     "status": "ok",
     "timestamp": 1608370815539,
     "user": {
      "displayName": "Ka Tung Cheng",
      "photoUrl": "",
      "userId": "01448164510831113819"
     },
     "user_tz": -480
    },
    "id": "CeOXhTk9LLiJ"
   },
   "outputs": [],
   "source": [
    "import tensorflow as tf\n",
    "import numpy as np\n",
    "import math\n",
    "from IPython.display import Image"
   ]
  },
  {
   "cell_type": "markdown",
   "metadata": {
    "id": "bOZpKKAjLLiK"
   },
   "source": [
    "### Positional ecoding\n",
    "\n",
    "Notes to positional encoding:\n",
    "\n",
    "1. Building the positional embedding is irrelavant to the input\n",
    "\n",
    "2. Meaning of variable \n",
    "    \n",
    "    L: Length of sequence (number of words in a sentence)\n",
    "    \n",
    "    d: number of neuron in later encoder/decoder layer\n",
    "\n",
    "3. output is a 3-D array (1, batch size, d_model) which to be added with embedding layer\n",
    "\n",
    "   Formula:\n",
    "$$\\large{PE_{(pos, 2i)} = sin(pos / 10000^{2i / d_{model}})} $$\n",
    "$$\\large{PE_{(pos, 2i+1)} = cos(pos / 10000^{2i / d_{model}})} $$"
   ]
  },
  {
   "cell_type": "code",
   "execution_count": 2,
   "metadata": {
    "colab": {
     "base_uri": "https://localhost:8080/",
     "height": 35
    },
    "executionInfo": {
     "elapsed": 2423,
     "status": "ok",
     "timestamp": 1608370815546,
     "user": {
      "displayName": "Ka Tung Cheng",
      "photoUrl": "",
      "userId": "01448164510831113819"
     },
     "user_tz": -480
    },
    "id": "4bcHglp-LLiK",
    "outputId": "8fd28f0d-6714-4c0c-dd79-31585d07f110"
   },
   "outputs": [
    {
     "data": {
      "image/png": "[encoded data removed]",
      "text/plain": [
       "<IPython.core.display.Image object>"
      ]
     },
     "execution_count": 2,
     "metadata": {
      "image/png": {
       "height": 300,
       "width": 400
      }
     },
     "output_type": "execute_result"
    }
   ],
   "source": [
    "'''\n",
    "Graphical visualization\n",
    "'''\n",
    "\n",
    "Image(filename = \"positional encoding.png\", width = 400, height = 300)"
   ]
  },
  {
   "cell_type": "code",
   "execution_count": 3,
   "metadata": {
    "executionInfo": {
     "elapsed": 2417,
     "status": "ok",
     "timestamp": 1608370815548,
     "user": {
      "displayName": "Ka Tung Cheng",
      "photoUrl": "",
      "userId": "01448164510831113819"
     },
     "user_tz": -480
    },
    "id": "Kk1V3dt7LLiM"
   },
   "outputs": [],
   "source": [
    "np.set_printoptions(suppress=True)\n",
    "\n",
    "def positional_encoding(L,d): \n",
    "  X=(np.zeros((d,L))+np.arange(L)).T\n",
    "  X=X/(10000**(2*(np.arange(d)//2)/d))\n",
    "  X[:,0::2]=np.sin(X[:,0::2])\n",
    "  X[:,1::2]=np.cos(X[:,1::2])\n",
    "  X=X[np.newaxis,:]\n",
    "  return tf.cast(X, dtype=tf.float32)"
   ]
  },
  {
   "cell_type": "markdown",
   "metadata": {
    "id": "F13Fz62WLLiM"
   },
   "source": [
    "## Scaled dot product attaention\n",
    "\n",
    "Input shape\n",
    "q,k,v dimension 4D array (batch_size, number of heads, Length of sequence, depth)\n",
    "\n",
    "Output shape\n",
    "(batch size, number of heads, depth)\n",
    "\n",
    "Encoder:\n",
    "\n",
    "1. q,k and v are all come from X, the input vector\n",
    "\n",
    "2. Masking is not needed\n",
    "\n",
    "Decoder:\n",
    "\n",
    "1. q is the decoder output, while k and v are the same encoder output\n",
    "\n",
    "2. Masking is needed\n",
    "\n",
    "$$\\small{Attention(Q, K, V) = softmax_k(\\frac{QK^T}{\\sqrt{d_k}}) V} $$"
   ]
  },
  {
   "cell_type": "code",
   "execution_count": 4,
   "metadata": {
    "executionInfo": {
     "elapsed": 2414,
     "status": "ok",
     "timestamp": 1608370815549,
     "user": {
      "displayName": "Ka Tung Cheng",
      "photoUrl": "",
      "userId": "01448164510831113819"
     },
     "user_tz": -480
    },
    "id": "cYQSrxkeLLiM"
   },
   "outputs": [],
   "source": [
    "def scaled_dot_product_attention(q,k,v,mask):\n",
    "  QK=tf.matmul(q,k,transpose_b=True)/tf.math.sqrt(tf.cast(tf.shape(k)[-1],tf.float32))\n",
    "  if mask is not None:\n",
    "    QK+= mask * -1e9\n",
    "  weight=tf.nn.softmax(QK,axis=-1) # (L_q x L_k)\n",
    "  otuput=tf.matmul(weight,v)\n",
    "  return otuput, weight"
   ]
  },
  {
   "cell_type": "markdown",
   "metadata": {
    "id": "ncmBjrzMLLiN"
   },
   "source": [
    "### Multihead attention\n",
    "\n",
    "input shape: batch size, sequence length, model depth\n",
    "\n",
    "\n",
    "output shape: batch size, head size, sequence length, number of neuron in each head \n",
    "\n",
    "(model depth = head size x number of neuron in each head)"
   ]
  },
  {
   "cell_type": "code",
   "execution_count": 5,
   "metadata": {
    "executionInfo": {
     "elapsed": 2410,
     "status": "ok",
     "timestamp": 1608370815549,
     "user": {
      "displayName": "Ka Tung Cheng",
      "photoUrl": "",
      "userId": "01448164510831113819"
     },
     "user_tz": -480
    },
    "id": "OLqReHTVLLiN"
   },
   "outputs": [],
   "source": [
    "class multihead_attention(tf.keras.layers.Layer):\n",
    "    def __init__(self,d_model,num_heads,name='Multihead'):\n",
    "        super(multihead_attention,self).__init__()\n",
    "        self.num_heads=num_heads\n",
    "        self.d_model=d_model\n",
    "        self.depth=self.d_model//self.num_heads\n",
    "\n",
    "        self.q_layer=tf.keras.layers.Dense(self.d_model)\n",
    "        self.k_layer=tf.keras.layers.Dense(self.d_model)\n",
    "        self.v_layer=tf.keras.layers.Dense(self.d_model)\n",
    "\n",
    "        self.dense=tf.keras.layers.Dense(self.d_model)\n",
    "    def call(self,q,k,v,mask):\n",
    "        batch_size=tf.shape(q)[0]\n",
    "\n",
    "        q=self.q_layer(q)\n",
    "        k=self.k_layer(k)\n",
    "        v=self.v_layer(v)\n",
    "\n",
    "        #(batch_size, num_heads, seq_len_, depth)\n",
    "        q=tf.reshape(q,(batch_size,-1,self.num_heads,self.depth))\n",
    "        q=tf.transpose(q,perm=[0,2,1,3]) \n",
    "        k=tf.reshape(k,(batch_size,-1,self.num_heads,self.depth))\n",
    "        k=tf.transpose(k,perm=[0,2,1,3])\n",
    "        v=tf.reshape(v,(batch_size,-1,self.num_heads,self.depth))\n",
    "        v=tf.transpose(v,perm=[0,2,1,3])\n",
    "        \n",
    "        scaled_attention, attention_weights=scaled_dot_product_attention(q,k,v,mask)\n",
    "        scaled_attention = tf.transpose(scaled_attention, perm=[0, 2, 1, 3]) #(B,L,H,D)\n",
    "        concat_attention = tf.reshape(scaled_attention,(batch_size, -1, self.d_model)) \n",
    "        concat_attention=self.dense(concat_attention)\n",
    "\n",
    "        return concat_attention,attention_weights"
   ]
  },
  {
   "cell_type": "markdown",
   "metadata": {
    "id": "Y52502r6LLiN"
   },
   "source": [
    "### Enocder Block\n",
    "The whole block of encoder layer consist of:\n",
    "\n",
    "1. multihead attention\n",
    "2. layer normalization (residual connection)\n",
    "3.feed forward network\n",
    "    3.1 Dense layer sized 2048 with Relu activation\n",
    "    3.2 Dense layer sized 512\n",
    "4.layer normalization (residual connection)"
   ]
  },
  {
   "cell_type": "code",
   "execution_count": 6,
   "metadata": {
    "executionInfo": {
     "elapsed": 2407,
     "status": "ok",
     "timestamp": 1608370815550,
     "user": {
      "displayName": "Ka Tung Cheng",
      "photoUrl": "",
      "userId": "01448164510831113819"
     },
     "user_tz": -480
    },
    "id": "nv74Y6NULLiO"
   },
   "outputs": [],
   "source": [
    "class encoder_layer(tf.keras.layers.Layer):\n",
    "    def __init__(self,num_heads,d_model,ffn,drop_rate=0.1):\n",
    "        super(encoder_layer,self).__init__()\n",
    "        self.drop_rate=drop_rate\n",
    "        self.ffn=ffn\n",
    "        self.num_heads=num_heads\n",
    "        self.d_model=d_model\n",
    "        \n",
    "        self.mha=multihead_attention(self.d_model,self.num_heads)\n",
    "\n",
    "        self.layernorm1 = tf.keras.layers.LayerNormalization(epsilon=1e-6)\n",
    "        self.layernorm2 = tf.keras.layers.LayerNormalization(epsilon=1e-6)\n",
    "        \n",
    "        self.Drop1=tf.keras.layers.Dropout(self.drop_rate)\n",
    "        self.Drop2=tf.keras.layers.Dropout(self.drop_rate)\n",
    "        \n",
    "        self.Dense1=tf.keras.layers.Dense(self.ffn, activation='relu')\n",
    "        self.Dense2=tf.keras.layers.Dense(d_model)\n",
    "\n",
    "    def call(self,X,training,mask):\n",
    "        X_shortcut=X #first residual\n",
    "        X,_=self.mha(X,X,X,mask)\n",
    "\n",
    "        X=self.Drop1(X,training=training)\n",
    "        X=self.layernorm1(X+X_shortcut)\n",
    "        \n",
    "        X_shortcut=X #second residual\n",
    "        '''\n",
    "        Feed forward network\n",
    "        '''\n",
    "        X=self.Dense1(X)\n",
    "        X=self.Dense2(X)\n",
    "        X=self.Drop2(X,training=training)\n",
    "        X=self.layernorm2(X+X_shortcut)\n",
    "        \n",
    "        return X"
   ]
  },
  {
   "cell_type": "markdown",
   "metadata": {
    "id": "xyenGCIXLLiP"
   },
   "source": [
    "## Notes to Embedding layer\n",
    "https://keras.io/api/layers/core_layers/embedding/\n",
    "\n",
    "\n",
    "Input shape: (batch size, input vocab size), not batch input length\n",
    "\n",
    "\n",
    "Output shape: (batch size, input vocab size, d_model)"
   ]
  },
  {
   "cell_type": "code",
   "execution_count": 7,
   "metadata": {
    "executionInfo": {
     "elapsed": 2403,
     "status": "ok",
     "timestamp": 1608370815550,
     "user": {
      "displayName": "Ka Tung Cheng",
      "photoUrl": "",
      "userId": "01448164510831113819"
     },
     "user_tz": -480
    },
    "id": "-1uFOG-RLLiP"
   },
   "outputs": [],
   "source": [
    "class Encoder(tf.keras.layers.Layer):\n",
    "    def __init__(self, d_model, input_vocab_size,\n",
    "                 num_heads, ffn, num_layers=6, drop_rate=0.1):\n",
    "        super(Encoder,self).__init__()\n",
    "        self.d_model=d_model\n",
    "        self.input_vocab_size=input_vocab_size\n",
    "        self.num_heads=num_heads\n",
    "        self.drop_rate=drop_rate\n",
    "        self.ffn=ffn\n",
    "        self.num_layers=num_layers\n",
    "\n",
    "        self.embedding=tf.keras.layers.Embedding(self.input_vocab_size,self.d_model)\n",
    "        self.position=positional_encoding(self.input_vocab_size, self.d_model)\n",
    "        self.Dropout=tf.keras.layers.Dropout(self.drop_rate)\n",
    "        self.encoder_layers=[encoder_layer(self.num_heads,self.d_model,self.ffn,self.drop_rate) \n",
    "                            for _ in range(self.num_layers)]\n",
    "        \n",
    "    def call(self,X_input,training,mask):\n",
    "        input_length=tf.shape(X_input)[1]\n",
    "\n",
    "        X=self.embedding(X_input)\n",
    "        X*=tf.math.sqrt(tf.cast(self.d_model,dtype=tf.float32)) #See paper 3.4\n",
    "        X_pos=self.position[:,:input_length,:]     \n",
    "        X+=X_pos\n",
    "        X=self.Dropout(X,training=training)\n",
    "\n",
    "        for i in range(self.num_layers):\n",
    "            X=self.encoder_layers[i](X,training,mask)\n",
    "        return X\n",
    "    "
   ]
  },
  {
   "cell_type": "markdown",
   "metadata": {
    "id": "NzOe2gd_LLiQ"
   },
   "source": [
    "### Decoder Block\n",
    "\n",
    "The whole block of decoder layer consist of:\n",
    "\n",
    "1. masked multihead attention\n",
    "2. layer normalization (residual connection)\n",
    "3. multihead attention\n",
    "4. layer normalization (residual connection)\n",
    "5.feed forward network\n",
    "\n",
    "    5.1 Dense layer sized 2048 with Relu activation\n",
    "    \n",
    "    5.2 Dense layer sized 512\n",
    "6.layer normalization (residual connection)"
   ]
  },
  {
   "cell_type": "code",
   "execution_count": 8,
   "metadata": {
    "executionInfo": {
     "elapsed": 2400,
     "status": "ok",
     "timestamp": 1608370815551,
     "user": {
      "displayName": "Ka Tung Cheng",
      "photoUrl": "",
      "userId": "01448164510831113819"
     },
     "user_tz": -480
    },
    "id": "AdTD6z-8LLiQ"
   },
   "outputs": [],
   "source": [
    "def create_look_ahead_mask(size):\n",
    "  mask = 1 - tf.linalg.band_part(tf.ones((size, size)), -1, 0)\n",
    "  return mask  # (seq_len, seq_len)"
   ]
  },
  {
   "cell_type": "code",
   "execution_count": 9,
   "metadata": {
    "executionInfo": {
     "elapsed": 2396,
     "status": "ok",
     "timestamp": 1608370815551,
     "user": {
      "displayName": "Ka Tung Cheng",
      "photoUrl": "",
      "userId": "01448164510831113819"
     },
     "user_tz": -480
    },
    "id": "g8gtvq25LLiQ"
   },
   "outputs": [],
   "source": [
    "def create_padding_mask(seq):\n",
    "  seq = tf.cast(tf.math.equal(seq, 0), tf.float32)\n",
    "  \n",
    "  # add extra dimensions to add the padding\n",
    "  # to the attention logits.\n",
    "  return seq[:, tf.newaxis, tf.newaxis, :]  # (batch_size, 1, 1, seq_len)"
   ]
  },
  {
   "cell_type": "code",
   "execution_count": 10,
   "metadata": {
    "executionInfo": {
     "elapsed": 2394,
     "status": "ok",
     "timestamp": 1608370815552,
     "user": {
      "displayName": "Ka Tung Cheng",
      "photoUrl": "",
      "userId": "01448164510831113819"
     },
     "user_tz": -480
    },
    "id": "dl0I8qotLLiR"
   },
   "outputs": [],
   "source": [
    "class decoder_layer(tf.keras.layers.Layer):\n",
    "    def __init__(self, d_model,ffn, num_heads, drop_rate=0.1):\n",
    "        super(decoder_layer,self).__init__()\n",
    "        self.d_model=d_model\n",
    "        self.ffn=ffn\n",
    "        self.drop_rate=drop_rate\n",
    "        self.num_heads=num_heads\n",
    "        \n",
    "        self.mha_mask=multihead_attention(self.d_model,self.num_heads)\n",
    "        self.mha=multihead_attention(self.d_model,self.num_heads)\n",
    "        \n",
    "        self.layernorm1 = tf.keras.layers.LayerNormalization(epsilon=1e-6)\n",
    "        self.layernorm2 = tf.keras.layers.LayerNormalization(epsilon=1e-6)\n",
    "        self.layernorm3 = tf.keras.layers.LayerNormalization(epsilon=1e-6)\n",
    "        \n",
    "        self.Dropout1 = tf.keras.layers.Dropout(self.drop_rate)\n",
    "        self.Dropout2 = tf.keras.layers.Dropout(self.drop_rate)\n",
    "        self.Dropout3 = tf.keras.layers.Dropout(self.drop_rate)\n",
    "        \n",
    "        self.Dense1=tf.keras.layers.Dense(self.ffn, activation='relu')\n",
    "        self.Dense2=tf.keras.layers.Dense(d_model)\n",
    "        \n",
    "    def call(self,Y,encoder_output,training,look_ahead_mask,padding_mask):\n",
    "        Y_shortcut=Y\n",
    "        Y,attn_weights_block1=self.mha_mask(Y,Y,Y,look_ahead_mask) \n",
    "        Y=self.Dropout1(Y,training=training)\n",
    "        Y=self.layernorm1(Y+Y_shortcut)\n",
    "        \n",
    "        Y_shortcut=Y\n",
    "        Y,attn_weights_block2=self.mha(Y,encoder_output,encoder_output,padding_mask)\n",
    "        Y=self.Dropout2(Y,training=training)\n",
    "        Y=self.layernorm2(Y+Y_shortcut)\n",
    "\n",
    "        Y_shortcut=Y\n",
    "        Y=self.Dense1(Y)\n",
    "        Y=self.Dense2(Y)\n",
    "        Y=self.Dropout3(Y,training=training)\n",
    "        Y=self.layernorm3(Y+Y_shortcut)\n",
    "\n",
    "        return Y, attn_weights_block1, attn_weights_block2\n",
    "        "
   ]
  },
  {
   "cell_type": "code",
   "execution_count": 11,
   "metadata": {
    "executionInfo": {
     "elapsed": 2388,
     "status": "ok",
     "timestamp": 1608370815552,
     "user": {
      "displayName": "Ka Tung Cheng",
      "photoUrl": "",
      "userId": "01448164510831113819"
     },
     "user_tz": -480
    },
    "id": "flYLuj9mLLiR"
   },
   "outputs": [],
   "source": [
    "class Decoder(tf.keras.layers.Layer):\n",
    "    def __init__(self,d_model,target_vocab_size,num_heads,ffn,num_layers=6,drop_rate=0.1):\n",
    "        super(Decoder,self).__init__()\n",
    "        self.d_model=d_model\n",
    "        self.num_heads=num_heads\n",
    "        self.ffn=ffn\n",
    "        self.drop_rate=drop_rate\n",
    "        self.target_vocab_size=target_vocab_size\n",
    "        self.num_layers=num_layers\n",
    "        \n",
    "        self.embedding=tf.keras.layers.Embedding(self.target_vocab_size,self.d_model)\n",
    "        self.position=positional_encoding(self.target_vocab_size, self.d_model)\n",
    "        self.Dropout1=tf.keras.layers.Dropout(self.drop_rate)\n",
    "        self.decoder_layers=[decoder_layer(self.d_model,self.ffn, self.num_heads, self.drop_rate) \n",
    "                             for _ in range(self.num_layers)]\n",
    "\n",
    "    def call(self,Y_input,encoder_output,training,look_ahead_mask, padding_mask):\n",
    "        target_length = tf.cast(tf.shape(Y_input)[1],dtype=tf.int32)\n",
    "\n",
    "        attention_weights = {}\n",
    "        Y=self.embedding(Y_input)\n",
    "        Y*=tf.math.sqrt(tf.cast(self.d_model,dtype=tf.float32)) #See Section 3.4\n",
    "        Y_pos=self.position[:,:target_length,:]  \n",
    "        \n",
    "        Y+=Y_pos\n",
    "        Y=self.Dropout1(Y,training=training)\n",
    "\n",
    "        for i in range(self.num_layers):\n",
    "            Y,block1,block2=self.decoder_layers[i](Y,encoder_output,training,look_ahead_mask, padding_mask)\n",
    "        \n",
    "            attention_weights['decoder_layer{}_block1'.format(i+1)] = block1\n",
    "            attention_weights['decoder_layer{}_block2'.format(i+1)] = block2\n",
    "\n",
    "        return Y,attention_weights"
   ]
  },
  {
   "cell_type": "code",
   "execution_count": 12,
   "metadata": {
    "executionInfo": {
     "elapsed": 2386,
     "status": "ok",
     "timestamp": 1608370815553,
     "user": {
      "displayName": "Ka Tung Cheng",
      "photoUrl": "",
      "userId": "01448164510831113819"
     },
     "user_tz": -480
    },
    "id": "Pf9IOAXjLLiS"
   },
   "outputs": [],
   "source": [
    "class Transformer(tf.keras.Model):\n",
    "    def __init__(self,d_model, input_vocab_size, target_vocab_size, \n",
    "                  num_heads, ffn, num_layers, drop_rate):\n",
    "        super(Transformer,self).__init__()\n",
    "        self.d_model=d_model\n",
    "        self.input_vocab_size=input_vocab_size\n",
    "        self.target_vocab_size=target_vocab_size\n",
    "        self.num_heads=num_heads\n",
    "        self.ffn=ffn\n",
    "        self.drop_rate=drop_rate\n",
    "        self.num_layers=num_layers\n",
    "        \n",
    "        self.encod=Encoder(self.d_model, self.input_vocab_size,\n",
    "                           self.num_heads,self.ffn,self.num_layers,self.drop_rate)\n",
    "        self.decod=Decoder(self.d_model, self.target_vocab_size,\n",
    "                           self.num_heads,self.ffn,self.num_layers,self.drop_rate)\n",
    "        self.linear=tf.keras.layers.Dense(self.target_vocab_size, activation='softmax')\n",
    "        \n",
    "    def call(self,X_input, Y_input, training, enc_padding_mask, look_ahead_mask, dec_padding_mask):\n",
    "        X=self.encod(X_input,training, enc_padding_mask)\n",
    "        X,attention_weights=self.decod(Y_input, X, training, look_ahead_mask, dec_padding_mask)\n",
    "        output=self.linear(X)\n",
    "\n",
    "        return output,attention_weights"
   ]
  },
  {
   "cell_type": "markdown",
   "metadata": {
    "executionInfo": {
     "elapsed": 2382,
     "status": "ok",
     "timestamp": 1608370815553,
     "user": {
      "displayName": "Ka Tung Cheng",
      "photoUrl": "",
      "userId": "01448164510831113819"
     },
     "user_tz": -480
    },
    "id": "bDvzhWG123FV"
   },
   "source": [
    "#Let's follow the remaining step in the tutorial to check the performance of the model"
   ]
  },
  {
   "cell_type": "code",
   "execution_count": 14,
   "metadata": {
    "executionInfo": {
     "elapsed": 2847,
     "status": "ok",
     "timestamp": 1608370816022,
     "user": {
      "displayName": "Ka Tung Cheng",
      "photoUrl": "",
      "userId": "01448164510831113819"
     },
     "user_tz": -480
    },
    "id": "fWvfT1KxLLiT"
   },
   "outputs": [],
   "source": [
    "import tensorflow_datasets as tfds\n",
    "import time"
   ]
  },
  {
   "cell_type": "code",
   "execution_count": 15,
   "metadata": {
    "colab": {
     "base_uri": "https://localhost:8080/",
     "height": 420,
     "referenced_widgets": [
      "0471e61c7e334aefb068fb3761383ac0",
      "fa288ebbff6d410ab05f4efc06b104e2",
      "f823543b8b0246aea96725f9b39619bd",
      "ba232a2b60be45c4aa609a4af3ee8892",
      "a29eab51abe745a6a9436ea79fccc27d",
      "d9dd6dae919243bfa86423d1fe9cc9ed",
      "2ec3c9da89284083bb0eb5ad5e47cb7f",
      "4b57a63b85db41db831383a430c4c57b",
      "b37ca6d55412458e8737e0d646190dc6",
      "36cbbe64fa8b4f0481cdcb0492ce003c",
      "c4bbff97bd7e47eb9af980d2e9bcf3fc",
      "dd33d6e26ef14b0e9c3779b0c4dd2c50",
      "1dac0439196a4e69bbe2bb44fd76e6b5",
      "275a65ed955c4f6d9732a5f6aa918305",
      "a19f280229044478909fb90c5d5eb6e1",
      "3b0243d7a777471b8eb2270b997b5886",
      "6bf6915ba9394ce2b01c1728cd5abf88",
      "a90dab1524c04363abcb11c42cb87c7d",
      "0ded62ba1bc34ccd9487a52638fc6b44",
      "551f91df15644ea4a458cc7577bbad13",
      "0e316550890749e7a44e960f96ea630e",
      "4e00b52f16b741a5b07704331875fac7",
      "d94e443bd1ad4b81a0043e774b9dd97a",
      "04e1e92ec43b43159d67d6568a91daa4",
      "663b19097f41484683f2767d61a328ff",
      "fc80a3992bbd469190ec0c69503d6768",
      "a7d70d468fd3439cb01ec004157dcc8a",
      "da3058c5ccbd4125ba1042cac328a184",
      "c8d321cf541b452eb847e58059d83f53",
      "070b63dfbb94477abd1721e975ce9d74",
      "2f386c054d374babb7cb5f7f359232fb",
      "eb9d622fc2384948887ed0e3ecf71d96",
      "8d4009f4337c4ba19fa54cc7695acefc",
      "187e2f4575984e9c996ed133fe2f9f67",
      "3d93c9bf7c824b3cbdd952e6622f93eb",
      "94a7d11be5c74f3b92e2b903422bd445",
      "df4a8fc4c4f0400f9b3b2d21f0db8a4e",
      "25130efb069a4f939876105712d4560a",
      "2ee71383ec34445883299bba8ccaaea1",
      "073a7c3735e34ee3b192524542a8c032",
      "ef3ae2b3ecdb49cbb0773cfa4dfe2c03",
      "d93460313a454511823dd7221796f712",
      "7822966afe964013a1d3e62f395c12b1",
      "383f8249dac04494ae28a2129663943b",
      "0e4dcabef1f44bd1a5cd9c9a130b73b1",
      "59281734445e4727a39ddf637935a491",
      "9872c541d590405ebf0e053f4ddc6efd",
      "3f51a156840b473793c62ebc665c66b0",
      "25eef55ed3084a76b0bf9a39ae231c7f",
      "33495eea151d434ebce27fc3cb9b2019",
      "4805474a54c14b808da66510a6fd4b2e",
      "6cf4f54720cc4153aff0698c87d8db75",
      "3f8a500d25d0481ea3e93e4dba07f6f7",
      "c0bb7d61ba6d47169296528ec60a7abd",
      "5cb236dd791b470ebdbae7cfbe8ba2d9",
      "c434095877e24bbaa874c0f4f6ddb0dd",
      "d4ad6af698d24a9b88715af146fdca3e",
      "5105f6f7961a42dd8b1c1641468aae93",
      "9a3d43bea641415a9a922e0f596db32c",
      "e03a89f86da843788959ac1155b649f0",
      "a7c499a710394864b8591ac30710f2ab",
      "2667f83a7515487887b2ad3cba0418ba",
      "5154964743c849dcb940410c27199d29",
      "fe67359ec0084772b1dd3875a1a3c3b4",
      "7b1879bbfc0040a89178df6c6d29190a",
      "e6a36a2f4e1f444fabba8469b6ce2da3",
      "17b29df8743e4b1eba2aa701e74c2473",
      "55bab0fc4cd24114b2f7a89d4c5db846",
      "4796f3403d9d442aba86e3e89a548e78",
      "2302520b8ac94234bf8888870040b36c",
      "37f6c5c8cce049ec88988a838f347300",
      "30b7ee0db33b4b6e9843eabdaf5c2603"
     ]
    },
    "executionInfo": {
     "elapsed": 24742,
     "status": "ok",
     "timestamp": 1608370837921,
     "user": {
      "displayName": "Ka Tung Cheng",
      "photoUrl": "",
      "userId": "01448164510831113819"
     },
     "user_tz": -480
    },
    "id": "0SZjLyffLLiT",
    "outputId": "d19766c4-20f4-4b84-8b73-6f79b77bf5aa",
    "scrolled": true
   },
   "outputs": [
    {
     "name": "stdout",
     "output_type": "stream",
     "text": [
      "\u001b[1mDownloading and preparing dataset ted_hrlr_translate/pt_to_en/1.0.0 (download: 124.94 MiB, generated: Unknown size, total: 124.94 MiB) to /root/tensorflow_datasets/ted_hrlr_translate/pt_to_en/1.0.0...\u001b[0m\n"
     ]
    },
    {
     "data": {
      "application/vnd.jupyter.widget-view+json": {
       "model_id": "0471e61c7e334aefb068fb3761383ac0",
       "version_major": 2,
       "version_minor": 0
      },
      "text/plain": [
       "HBox(children=(FloatProgress(value=1.0, bar_style='info', description='Dl Completed...', max=1.0, style=Progre…"
      ]
     },
     "metadata": {
      "tags": []
     },
     "output_type": "display_data"
    },
    {
     "data": {
      "application/vnd.jupyter.widget-view+json": {
       "model_id": "b37ca6d55412458e8737e0d646190dc6",
       "version_major": 2,
       "version_minor": 0
      },
      "text/plain": [
       "HBox(children=(FloatProgress(value=1.0, bar_style='info', description='Dl Size...', max=1.0, style=ProgressSty…"
      ]
     },
     "metadata": {
      "tags": []
     },
     "output_type": "display_data"
    },
    {
     "data": {
      "application/vnd.jupyter.widget-view+json": {
       "model_id": "6bf6915ba9394ce2b01c1728cd5abf88",
       "version_major": 2,
       "version_minor": 0
      },
      "text/plain": [
       "HBox(children=(FloatProgress(value=1.0, bar_style='info', description='Extraction completed...', max=1.0, styl…"
      ]
     },
     "metadata": {
      "tags": []
     },
     "output_type": "display_data"
    },
    {
     "name": "stdout",
     "output_type": "stream",
     "text": [
      "\n",
      "\n",
      "\n",
      "\n",
      "\n",
      "\n"
     ]
    },
    {
     "data": {
      "application/vnd.jupyter.widget-view+json": {
       "model_id": "663b19097f41484683f2767d61a328ff",
       "version_major": 2,
       "version_minor": 0
      },
      "text/plain": [
       "HBox(children=(FloatProgress(value=1.0, bar_style='info', max=1.0), HTML(value='')))"
      ]
     },
     "metadata": {
      "tags": []
     },
     "output_type": "display_data"
    },
    {
     "name": "stdout",
     "output_type": "stream",
     "text": [
      "\r",
      "Shuffling and writing examples to /root/tensorflow_datasets/ted_hrlr_translate/pt_to_en/1.0.0.incompleteEC1VM7/ted_hrlr_translate-train.tfrecord\n"
     ]
    },
    {
     "data": {
      "application/vnd.jupyter.widget-view+json": {
       "model_id": "8d4009f4337c4ba19fa54cc7695acefc",
       "version_major": 2,
       "version_minor": 0
      },
      "text/plain": [
       "HBox(children=(FloatProgress(value=0.0, max=51785.0), HTML(value='')))"
      ]
     },
     "metadata": {
      "tags": []
     },
     "output_type": "display_data"
    },
    {
     "name": "stdout",
     "output_type": "stream",
     "text": [
      "\r"
     ]
    },
    {
     "data": {
      "application/vnd.jupyter.widget-view+json": {
       "model_id": "ef3ae2b3ecdb49cbb0773cfa4dfe2c03",
       "version_major": 2,
       "version_minor": 0
      },
      "text/plain": [
       "HBox(children=(FloatProgress(value=1.0, bar_style='info', max=1.0), HTML(value='')))"
      ]
     },
     "metadata": {
      "tags": []
     },
     "output_type": "display_data"
    },
    {
     "name": "stdout",
     "output_type": "stream",
     "text": [
      "\r",
      "Shuffling and writing examples to /root/tensorflow_datasets/ted_hrlr_translate/pt_to_en/1.0.0.incompleteEC1VM7/ted_hrlr_translate-validation.tfrecord\n"
     ]
    },
    {
     "data": {
      "application/vnd.jupyter.widget-view+json": {
       "model_id": "25eef55ed3084a76b0bf9a39ae231c7f",
       "version_major": 2,
       "version_minor": 0
      },
      "text/plain": [
       "HBox(children=(FloatProgress(value=0.0, max=1193.0), HTML(value='')))"
      ]
     },
     "metadata": {
      "tags": []
     },
     "output_type": "display_data"
    },
    {
     "name": "stdout",
     "output_type": "stream",
     "text": [
      "\r"
     ]
    },
    {
     "data": {
      "application/vnd.jupyter.widget-view+json": {
       "model_id": "d4ad6af698d24a9b88715af146fdca3e",
       "version_major": 2,
       "version_minor": 0
      },
      "text/plain": [
       "HBox(children=(FloatProgress(value=1.0, bar_style='info', max=1.0), HTML(value='')))"
      ]
     },
     "metadata": {
      "tags": []
     },
     "output_type": "display_data"
    },
    {
     "name": "stdout",
     "output_type": "stream",
     "text": [
      "\r",
      "Shuffling and writing examples to /root/tensorflow_datasets/ted_hrlr_translate/pt_to_en/1.0.0.incompleteEC1VM7/ted_hrlr_translate-test.tfrecord\n"
     ]
    },
    {
     "data": {
      "application/vnd.jupyter.widget-view+json": {
       "model_id": "7b1879bbfc0040a89178df6c6d29190a",
       "version_major": 2,
       "version_minor": 0
      },
      "text/plain": [
       "HBox(children=(FloatProgress(value=0.0, max=1803.0), HTML(value='')))"
      ]
     },
     "metadata": {
      "tags": []
     },
     "output_type": "display_data"
    },
    {
     "name": "stdout",
     "output_type": "stream",
     "text": [
      "\u001b[1mDataset ted_hrlr_translate downloaded and prepared to /root/tensorflow_datasets/ted_hrlr_translate/pt_to_en/1.0.0. Subsequent calls will reuse this data.\u001b[0m\n"
     ]
    }
   ],
   "source": [
    "examples, metadata = tfds.load('ted_hrlr_translate/pt_to_en', with_info=True,as_supervised=True)\n",
    "train_examples, val_examples = examples['train'], examples['validation']"
   ]
  },
  {
   "cell_type": "code",
   "execution_count": 16,
   "metadata": {
    "colab": {
     "base_uri": "https://localhost:8080/"
    },
    "executionInfo": {
     "elapsed": 34573,
     "status": "ok",
     "timestamp": 1608370847755,
     "user": {
      "displayName": "Ka Tung Cheng",
      "photoUrl": "",
      "userId": "01448164510831113819"
     },
     "user_tz": -480
    },
    "id": "an7dIeHXk7m1",
    "outputId": "b79f18ca-62dc-4a97-d66e-2b8f633a9249"
   },
   "outputs": [
    {
     "name": "stdout",
     "output_type": "stream",
     "text": [
      "tf.Tensor(b'e quando melhoramos a procura , tiramos a \\xc3\\xbanica vantagem da impress\\xc3\\xa3o , que \\xc3\\xa9 a serendipidade .', shape=(), dtype=string)\n",
      "tf.Tensor(b'and when you improve searchability , you actually take away the one advantage of print , which is serendipity .', shape=(), dtype=string)\n"
     ]
    }
   ],
   "source": [
    "'Visualize the data'\n",
    "sample=(list(iter(train_examples))[0])\n",
    "print(sample[0])\n",
    "print(sample[1])"
   ]
  },
  {
   "cell_type": "code",
   "execution_count": 17,
   "metadata": {
    "executionInfo": {
     "elapsed": 151685,
     "status": "ok",
     "timestamp": 1608370964873,
     "user": {
      "displayName": "Ka Tung Cheng",
      "photoUrl": "",
      "userId": "01448164510831113819"
     },
     "user_tz": -480
    },
    "id": "xH5rgrOfLLiT"
   },
   "outputs": [],
   "source": [
    "tokenizer_en = tfds.deprecated.text.SubwordTextEncoder.build_from_corpus(\n",
    "    (en.numpy() for pt, en in train_examples), target_vocab_size=2**13)\n",
    "\n",
    "tokenizer_pt = tfds.deprecated.text.SubwordTextEncoder.build_from_corpus(\n",
    "    (pt.numpy() for pt, en in train_examples), target_vocab_size=2**13)"
   ]
  },
  {
   "cell_type": "code",
   "execution_count": 18,
   "metadata": {
    "executionInfo": {
     "elapsed": 151684,
     "status": "ok",
     "timestamp": 1608370964876,
     "user": {
      "displayName": "Ka Tung Cheng",
      "photoUrl": "",
      "userId": "01448164510831113819"
     },
     "user_tz": -480
    },
    "id": "VczTcMxmLLiT"
   },
   "outputs": [],
   "source": [
    "BUFFER_SIZE = 20000\n",
    "BATCH_SIZE = 64\n",
    "\n",
    "def encode(lang1, lang2):\n",
    "  lang1 = [tokenizer_pt.vocab_size] + tokenizer_pt.encode(\n",
    "      lang1.numpy()) + [tokenizer_pt.vocab_size+1]\n",
    "\n",
    "  lang2 = [tokenizer_en.vocab_size] + tokenizer_en.encode(\n",
    "      lang2.numpy()) + [tokenizer_en.vocab_size+1]\n",
    "  \n",
    "  return lang1, lang2\n",
    "\n",
    "def tf_encode(pt, en):\n",
    "  result_pt, result_en = tf.py_function(encode, [pt, en], [tf.int64, tf.int64])\n",
    "  result_pt.set_shape([None])\n",
    "  result_en.set_shape([None])\n",
    "\n",
    "  return result_pt, result_en"
   ]
  },
  {
   "cell_type": "code",
   "execution_count": 19,
   "metadata": {
    "executionInfo": {
     "elapsed": 151681,
     "status": "ok",
     "timestamp": 1608370964877,
     "user": {
      "displayName": "Ka Tung Cheng",
      "photoUrl": "",
      "userId": "01448164510831113819"
     },
     "user_tz": -480
    },
    "id": "zzQV3v_1LLiU"
   },
   "outputs": [],
   "source": [
    "MAX_LENGTH = 40\n",
    "\n",
    "def filter_max_length(x, y, max_length=MAX_LENGTH):\n",
    "  return tf.logical_and(tf.size(x) <= max_length,\n",
    "                        tf.size(y) <= max_length)\n",
    "\n",
    "train_dataset = train_examples.map(tf_encode)\n",
    "train_dataset = train_dataset.filter(filter_max_length)\n",
    "# cache the dataset to memory to get a speedup while reading from it.\n",
    "train_dataset = train_dataset.cache()\n",
    "train_dataset = train_dataset.shuffle(BUFFER_SIZE).padded_batch(BATCH_SIZE)\n",
    "train_dataset = train_dataset.prefetch(tf.data.experimental.AUTOTUNE)\n",
    "\n",
    "\n",
    "val_dataset = val_examples.map(tf_encode)\n",
    "val_dataset = val_dataset.filter(filter_max_length).padded_batch(BATCH_SIZE)"
   ]
  },
  {
   "cell_type": "code",
   "execution_count": 20,
   "metadata": {
    "colab": {
     "base_uri": "https://localhost:8080/"
    },
    "executionInfo": {
     "elapsed": 161762,
     "status": "ok",
     "timestamp": 1608370974962,
     "user": {
      "displayName": "Ka Tung Cheng",
      "photoUrl": "",
      "userId": "01448164510831113819"
     },
     "user_tz": -480
    },
    "id": "qu-o6NdoLLiU",
    "outputId": "95fdd697-e117-436a-a425-01f63887158f"
   },
   "outputs": [
    {
     "data": {
      "text/plain": [
       "(<tf.Tensor: shape=(64, 35), dtype=int64, numpy=\n",
       " array([[8214,    3,  783, ...,    0,    0,    0],\n",
       "        [8214,   70,   10, ...,    0,    0,    0],\n",
       "        [8214,    6,   82, ...,    0,    0,    0],\n",
       "        ...,\n",
       "        [8214,   40, 1992, ...,    0,    0,    0],\n",
       "        [8214,   66, 4155, ..., 8062,    2, 8215],\n",
       "        [8214,   13,   16, ...,    0,    0,    0]])>,\n",
       " <tf.Tensor: shape=(64, 33), dtype=int64, numpy=\n",
       " array([[8087,    3,  811, ...,    0,    0,    0],\n",
       "        [8087,   17,   86, ...,    0,    0,    0],\n",
       "        [8087,    4,   17, ...,    0,    0,    0],\n",
       "        ...,\n",
       "        [8087,   59,    7, ...,    0,    0,    0],\n",
       "        [8087,   62,    4, ..., 8088,    0,    0],\n",
       "        [8087,   15,  210, ...,   51,    2, 8088]])>)"
      ]
     },
     "execution_count": 20,
     "metadata": {
      "tags": []
     },
     "output_type": "execute_result"
    }
   ],
   "source": [
    "pt_batch, en_batch = next(iter(train_dataset))\n",
    "pt_batch, en_batch"
   ]
  },
  {
   "cell_type": "markdown",
   "metadata": {
    "id": "4PbWuxuILLiU"
   },
   "source": [
    "Learning rate\n",
    "\n",
    "$$\\small{lrate = d_{model}^{-0.5} * min(step{\\_}num^{-0.5}, step{\\_}num * warmup{\\_}steps^{-1.5})}$$"
   ]
  },
  {
   "cell_type": "code",
   "execution_count": 21,
   "metadata": {
    "executionInfo": {
     "elapsed": 161757,
     "status": "ok",
     "timestamp": 1608370974963,
     "user": {
      "displayName": "Ka Tung Cheng",
      "photoUrl": "",
      "userId": "01448164510831113819"
     },
     "user_tz": -480
    },
    "id": "5PGyWtThLLiU"
   },
   "outputs": [],
   "source": [
    "class CustomSchedule(tf.keras.optimizers.schedules.LearningRateSchedule):\n",
    "  def __init__(self, d_model, warmup_steps=4000):\n",
    "    super(CustomSchedule, self).__init__()\n",
    "    \n",
    "    self.d_model = d_model\n",
    "    self.d_model = tf.cast(self.d_model, tf.float32)\n",
    "\n",
    "    self.warmup_steps = warmup_steps\n",
    "    \n",
    "  def __call__(self, step):\n",
    "    arg1 = tf.math.rsqrt(step)\n",
    "    arg2 = step * (self.warmup_steps ** -1.5)\n",
    "    \n",
    "    return tf.math.rsqrt(self.d_model) * tf.math.minimum(arg1, arg2)\n"
   ]
  },
  {
   "cell_type": "code",
   "execution_count": 22,
   "metadata": {
    "executionInfo": {
     "elapsed": 161753,
     "status": "ok",
     "timestamp": 1608370974963,
     "user": {
      "displayName": "Ka Tung Cheng",
      "photoUrl": "",
      "userId": "01448164510831113819"
     },
     "user_tz": -480
    },
    "id": "sX457XGoLLiU"
   },
   "outputs": [],
   "source": [
    "learning_rate = CustomSchedule(d_model=512)\n",
    "\n",
    "optimizer = tf.keras.optimizers.Adam(learning_rate, beta_1=0.9, beta_2=0.98, epsilon=1e-9)"
   ]
  },
  {
   "cell_type": "code",
   "execution_count": 23,
   "metadata": {
    "executionInfo": {
     "elapsed": 161750,
     "status": "ok",
     "timestamp": 1608370974964,
     "user": {
      "displayName": "Ka Tung Cheng",
      "photoUrl": "",
      "userId": "01448164510831113819"
     },
     "user_tz": -480
    },
    "id": "PPHs8Az8LLiU"
   },
   "outputs": [],
   "source": [
    "loss_object = tf.keras.losses.SparseCategoricalCrossentropy(from_logits=True, reduction='none')\n",
    "\n",
    "def loss_function(real, pred):\n",
    "  mask = tf.math.logical_not(tf.math.equal(real, 0))\n",
    "  loss_ = loss_object(real, pred)\n",
    "\n",
    "  mask = tf.cast(mask, dtype=loss_.dtype)\n",
    "  loss_ *= mask\n",
    "  \n",
    "  return tf.reduce_sum(loss_)/tf.reduce_sum(mask)\n",
    "\n",
    "def accuracy_function(real, pred):\n",
    "  accuracies = tf.equal(real, tf.argmax(pred, axis=2))\n",
    "  \n",
    "  mask = tf.math.logical_not(tf.math.equal(real, 0))\n",
    "  accuracies = tf.math.logical_and(mask, accuracies)\n",
    "\n",
    "  accuracies = tf.cast(accuracies, dtype=tf.float32)\n",
    "  mask = tf.cast(mask, dtype=tf.float32)\n",
    "  return tf.reduce_sum(accuracies)/tf.reduce_sum(mask)"
   ]
  },
  {
   "cell_type": "code",
   "execution_count": 24,
   "metadata": {
    "executionInfo": {
     "elapsed": 161745,
     "status": "ok",
     "timestamp": 1608370974964,
     "user": {
      "displayName": "Ka Tung Cheng",
      "photoUrl": "",
      "userId": "01448164510831113819"
     },
     "user_tz": -480
    },
    "id": "4tqW9RVMLLiV"
   },
   "outputs": [],
   "source": [
    "train_loss = tf.keras.metrics.Mean(name='train_loss')\n",
    "train_accuracy = tf.keras.metrics.Mean(name='train_accuracy')"
   ]
  },
  {
   "cell_type": "code",
   "execution_count": 25,
   "metadata": {
    "executionInfo": {
     "elapsed": 161742,
     "status": "ok",
     "timestamp": 1608370974964,
     "user": {
      "displayName": "Ka Tung Cheng",
      "photoUrl": "",
      "userId": "01448164510831113819"
     },
     "user_tz": -480
    },
    "id": "F--yl5X_LLiV"
   },
   "outputs": [],
   "source": [
    "def create_masks(inp, tar):\n",
    "  # Encoder padding mask\n",
    "  enc_padding_mask = create_padding_mask(inp)\n",
    "  \n",
    "  # Used in the 2nd attention block in the decoder.\n",
    "  # This padding mask is used to mask the encoder outputs.\n",
    "  dec_padding_mask = create_padding_mask(inp)\n",
    "  \n",
    "  # Used in the 1st attention block in the decoder.\n",
    "  # It is used to pad and mask future tokens in the input received by \n",
    "  # the decoder.\n",
    "  look_ahead_mask = create_look_ahead_mask(tf.shape(tar)[1])\n",
    "  dec_target_padding_mask = create_padding_mask(tar)\n",
    "  combined_mask = tf.maximum(dec_target_padding_mask, look_ahead_mask)\n",
    "  \n",
    "  return enc_padding_mask, combined_mask, dec_padding_mask"
   ]
  },
  {
   "cell_type": "code",
   "execution_count": 26,
   "metadata": {
    "executionInfo": {
     "elapsed": 162032,
     "status": "ok",
     "timestamp": 1608370975258,
     "user": {
      "displayName": "Ka Tung Cheng",
      "photoUrl": "",
      "userId": "01448164510831113819"
     },
     "user_tz": -480
    },
    "id": "N7wif5k7LLiV"
   },
   "outputs": [],
   "source": [
    "transformer = Transformer(d_model=512, input_vocab_size=tokenizer_pt.vocab_size + 2, \n",
    "                          target_vocab_size=tokenizer_en.vocab_size + 2,\n",
    "                          num_heads=8, ffn=2048, num_layers=4, drop_rate=0.1)"
   ]
  },
  {
   "cell_type": "code",
   "execution_count": 27,
   "metadata": {
    "executionInfo": {
     "elapsed": 162029,
     "status": "ok",
     "timestamp": 1608370975259,
     "user": {
      "displayName": "Ka Tung Cheng",
      "photoUrl": "",
      "userId": "01448164510831113819"
     },
     "user_tz": -480
    },
    "id": "tgrLitoULLiV"
   },
   "outputs": [],
   "source": [
    "checkpoint_path = \"./checkpoints/train\"\n",
    "\n",
    "ckpt = tf.train.Checkpoint(transformer=transformer,optimizer=optimizer)\n",
    "\n",
    "ckpt_manager = tf.train.CheckpointManager(ckpt, checkpoint_path, max_to_keep=5)\n",
    "\n",
    "# if a checkpoint exists, restore the latest checkpoint.\n",
    "if ckpt_manager.latest_checkpoint:\n",
    "  ckpt.restore(ckpt_manager.latest_checkpoint)\n",
    "  print ('Latest checkpoint restored!!')"
   ]
  },
  {
   "cell_type": "code",
   "execution_count": 28,
   "metadata": {
    "executionInfo": {
     "elapsed": 162023,
     "status": "ok",
     "timestamp": 1608370975259,
     "user": {
      "displayName": "Ka Tung Cheng",
      "photoUrl": "",
      "userId": "01448164510831113819"
     },
     "user_tz": -480
    },
    "id": "t5HuHpdKLLiW"
   },
   "outputs": [],
   "source": [
    "EPOCHS = 20"
   ]
  },
  {
   "cell_type": "code",
   "execution_count": 29,
   "metadata": {
    "executionInfo": {
     "elapsed": 162020,
     "status": "ok",
     "timestamp": 1608370975260,
     "user": {
      "displayName": "Ka Tung Cheng",
      "photoUrl": "",
      "userId": "01448164510831113819"
     },
     "user_tz": -480
    },
    "id": "D37ElINTLLiW"
   },
   "outputs": [],
   "source": [
    "train_step_signature = [\n",
    "    tf.TensorSpec(shape=(None, None), dtype=tf.int64),\n",
    "    tf.TensorSpec(shape=(None, None), dtype=tf.int64),\n",
    "]\n",
    "\n",
    "@tf.function(input_signature=train_step_signature)\n",
    "def train_step(inp, tar):\n",
    "  tar_inp = tar[:, :-1]\n",
    "  tar_real = tar[:, 1:]\n",
    "  \n",
    "  enc_padding_mask, combined_mask, dec_padding_mask = create_masks(inp, tar_inp)\n",
    "  \n",
    "  with tf.GradientTape() as tape:\n",
    "    predictions, _ = transformer(inp, tar_inp, True, enc_padding_mask,combined_mask, dec_padding_mask)\n",
    "    loss = loss_function(tar_real, predictions)\n",
    "\n",
    "  gradients = tape.gradient(loss, transformer.trainable_variables)    \n",
    "  optimizer.apply_gradients(zip(gradients, transformer.trainable_variables))\n",
    "  \n",
    "  train_loss(loss)\n",
    "  train_accuracy(accuracy_function(tar_real, predictions))"
   ]
  },
  {
   "cell_type": "code",
   "execution_count": 30,
   "metadata": {
    "colab": {
     "base_uri": "https://localhost:8080/"
    },
    "executionInfo": {
     "elapsed": 3643005,
     "status": "ok",
     "timestamp": 1608374456256,
     "user": {
      "displayName": "Ka Tung Cheng",
      "photoUrl": "",
      "userId": "01448164510831113819"
     },
     "user_tz": -480
    },
    "id": "NnPdqj0CLLiW",
    "outputId": "08ad92d9-14e3-4998-f2bb-4c412541b42d"
   },
   "outputs": [
    {
     "name": "stdout",
     "output_type": "stream",
     "text": [
      "Epoch 1 Batch 0 Loss 9.0320 Accuracy 0.0000\n",
      "Epoch 1 Batch 50 Loss 8.7512 Accuracy 0.0284\n",
      "Epoch 1 Batch 100 Loss 8.4498 Accuracy 0.0437\n",
      "Epoch 1 Batch 150 Loss 8.1997 Accuracy 0.0578\n",
      "Epoch 1 Batch 200 Loss 7.9172 Accuracy 0.0744\n",
      "Epoch 1 Batch 250 Loss 7.6475 Accuracy 0.0863\n",
      "Epoch 1 Batch 300 Loss 7.4137 Accuracy 0.0978\n",
      "Epoch 1 Batch 350 Loss 7.2202 Accuracy 0.1081\n",
      "Epoch 1 Batch 400 Loss 7.0523 Accuracy 0.1197\n",
      "Epoch 1 Batch 450 Loss 6.9005 Accuracy 0.1310\n",
      "Epoch 1 Batch 500 Loss 6.7623 Accuracy 0.1411\n",
      "Epoch 1 Batch 550 Loss 6.6362 Accuracy 0.1507\n",
      "Epoch 1 Batch 600 Loss 6.5222 Accuracy 0.1596\n",
      "Epoch 1 Batch 650 Loss 6.4157 Accuracy 0.1680\n",
      "Epoch 1 Batch 700 Loss 6.3169 Accuracy 0.1760\n",
      "Epoch 1 Loss 6.3129 Accuracy 0.1763\n",
      "Time taken for 1 epoch: 197.6201810836792 secs\n",
      "\n",
      "Epoch 2 Batch 0 Loss 5.0738 Accuracy 0.2839\n",
      "Epoch 2 Batch 50 Loss 4.9331 Accuracy 0.2864\n",
      "Epoch 2 Batch 100 Loss 4.8903 Accuracy 0.2909\n",
      "Epoch 2 Batch 150 Loss 4.8587 Accuracy 0.2929\n",
      "Epoch 2 Batch 200 Loss 4.8340 Accuracy 0.2953\n",
      "Epoch 2 Batch 250 Loss 4.8049 Accuracy 0.2978\n",
      "Epoch 2 Batch 300 Loss 4.7803 Accuracy 0.3003\n",
      "Epoch 2 Batch 350 Loss 4.7559 Accuracy 0.3020\n",
      "Epoch 2 Batch 400 Loss 4.7328 Accuracy 0.3043\n",
      "Epoch 2 Batch 450 Loss 4.7111 Accuracy 0.3062\n",
      "Epoch 2 Batch 500 Loss 4.6903 Accuracy 0.3083\n",
      "Epoch 2 Batch 550 Loss 4.6704 Accuracy 0.3101\n",
      "Epoch 2 Batch 600 Loss 4.6497 Accuracy 0.3122\n",
      "Epoch 2 Batch 650 Loss 4.6296 Accuracy 0.3141\n",
      "Epoch 2 Batch 700 Loss 4.6083 Accuracy 0.3164\n",
      "Epoch 2 Loss 4.6074 Accuracy 0.3165\n",
      "Time taken for 1 epoch: 172.8393998146057 secs\n",
      "\n",
      "Epoch 3 Batch 0 Loss 4.3871 Accuracy 0.3489\n",
      "Epoch 3 Batch 50 Loss 4.1884 Accuracy 0.3594\n",
      "Epoch 3 Batch 100 Loss 4.1708 Accuracy 0.3620\n",
      "Epoch 3 Batch 150 Loss 4.1483 Accuracy 0.3645\n",
      "Epoch 3 Batch 200 Loss 4.1299 Accuracy 0.3666\n",
      "Epoch 3 Batch 250 Loss 4.1163 Accuracy 0.3682\n",
      "Epoch 3 Batch 300 Loss 4.0963 Accuracy 0.3706\n",
      "Epoch 3 Batch 350 Loss 4.0785 Accuracy 0.3730\n",
      "Epoch 3 Batch 400 Loss 4.0531 Accuracy 0.3762\n",
      "Epoch 3 Batch 450 Loss 4.0345 Accuracy 0.3790\n",
      "Epoch 3 Batch 500 Loss 4.0125 Accuracy 0.3817\n",
      "Epoch 3 Batch 550 Loss 3.9935 Accuracy 0.3843\n",
      "Epoch 3 Batch 600 Loss 3.9742 Accuracy 0.3864\n",
      "Epoch 3 Batch 650 Loss 3.9604 Accuracy 0.3884\n",
      "Epoch 3 Batch 700 Loss 3.9408 Accuracy 0.3908\n",
      "Epoch 3 Loss 3.9400 Accuracy 0.3908\n",
      "Time taken for 1 epoch: 173.05756378173828 secs\n",
      "\n",
      "Epoch 4 Batch 0 Loss 3.6448 Accuracy 0.4207\n",
      "Epoch 4 Batch 50 Loss 3.5323 Accuracy 0.4351\n",
      "Epoch 4 Batch 100 Loss 3.5120 Accuracy 0.4380\n",
      "Epoch 4 Batch 150 Loss 3.5043 Accuracy 0.4400\n",
      "Epoch 4 Batch 200 Loss 3.5000 Accuracy 0.4406\n",
      "Epoch 4 Batch 250 Loss 3.4838 Accuracy 0.4422\n",
      "Epoch 4 Batch 300 Loss 3.4739 Accuracy 0.4432\n",
      "Epoch 4 Batch 350 Loss 3.4590 Accuracy 0.4450\n",
      "Epoch 4 Batch 400 Loss 3.4428 Accuracy 0.4464\n",
      "Epoch 4 Batch 450 Loss 3.4318 Accuracy 0.4476\n",
      "Epoch 4 Batch 500 Loss 3.4160 Accuracy 0.4497\n",
      "Epoch 4 Batch 550 Loss 3.4045 Accuracy 0.4512\n",
      "Epoch 4 Batch 600 Loss 3.3907 Accuracy 0.4530\n",
      "Epoch 4 Batch 650 Loss 3.3776 Accuracy 0.4545\n",
      "Epoch 4 Batch 700 Loss 3.3646 Accuracy 0.4558\n",
      "Epoch 4 Loss 3.3639 Accuracy 0.4559\n",
      "Time taken for 1 epoch: 173.04729795455933 secs\n",
      "\n",
      "Epoch 5 Batch 0 Loss 2.9343 Accuracy 0.4932\n",
      "Epoch 5 Batch 50 Loss 2.9735 Accuracy 0.4992\n",
      "Epoch 5 Batch 100 Loss 2.9615 Accuracy 0.4982\n",
      "Epoch 5 Batch 150 Loss 2.9469 Accuracy 0.5002\n",
      "Epoch 5 Batch 200 Loss 2.9606 Accuracy 0.4979\n",
      "Epoch 5 Batch 250 Loss 2.9509 Accuracy 0.4994\n",
      "Epoch 5 Batch 300 Loss 2.9435 Accuracy 0.5000\n",
      "Epoch 5 Batch 350 Loss 2.9353 Accuracy 0.5009\n",
      "Epoch 5 Batch 400 Loss 2.9244 Accuracy 0.5021\n",
      "Epoch 5 Batch 450 Loss 2.9206 Accuracy 0.5025\n",
      "Epoch 5 Batch 500 Loss 2.9155 Accuracy 0.5028\n",
      "Epoch 5 Batch 550 Loss 2.9082 Accuracy 0.5037\n",
      "Epoch 5 Batch 600 Loss 2.8991 Accuracy 0.5047\n",
      "Epoch 5 Batch 650 Loss 2.8923 Accuracy 0.5053\n",
      "Epoch 5 Batch 700 Loss 2.8862 Accuracy 0.5058\n",
      "Saving checkpoint for epoch 5 at ./checkpoints/train/ckpt-1\n",
      "Epoch 5 Loss 2.8856 Accuracy 0.5059\n",
      "Time taken for 1 epoch: 174.87358856201172 secs\n",
      "\n",
      "Epoch 6 Batch 0 Loss 2.6128 Accuracy 0.5401\n",
      "Epoch 6 Batch 50 Loss 2.5506 Accuracy 0.5407\n",
      "Epoch 6 Batch 100 Loss 2.5751 Accuracy 0.5366\n",
      "Epoch 6 Batch 150 Loss 2.5687 Accuracy 0.5373\n",
      "Epoch 6 Batch 200 Loss 2.5729 Accuracy 0.5368\n",
      "Epoch 6 Batch 250 Loss 2.5724 Accuracy 0.5371\n",
      "Epoch 6 Batch 300 Loss 2.5742 Accuracy 0.5370\n",
      "Epoch 6 Batch 350 Loss 2.5745 Accuracy 0.5370\n",
      "Epoch 6 Batch 400 Loss 2.5741 Accuracy 0.5369\n",
      "Epoch 6 Batch 450 Loss 2.5740 Accuracy 0.5367\n",
      "Epoch 6 Batch 500 Loss 2.5766 Accuracy 0.5363\n",
      "Epoch 6 Batch 550 Loss 2.5793 Accuracy 0.5361\n",
      "Epoch 6 Batch 600 Loss 2.5785 Accuracy 0.5363\n",
      "Epoch 6 Batch 650 Loss 2.5771 Accuracy 0.5366\n",
      "Epoch 6 Batch 700 Loss 2.5791 Accuracy 0.5364\n",
      "Epoch 6 Loss 2.5794 Accuracy 0.5363\n",
      "Time taken for 1 epoch: 173.66289520263672 secs\n",
      "\n",
      "Epoch 7 Batch 0 Loss 2.4005 Accuracy 0.5624\n",
      "Epoch 7 Batch 50 Loss 2.3025 Accuracy 0.5661\n",
      "Epoch 7 Batch 100 Loss 2.3063 Accuracy 0.5667\n",
      "Epoch 7 Batch 150 Loss 2.3152 Accuracy 0.5655\n",
      "Epoch 7 Batch 200 Loss 2.3186 Accuracy 0.5649\n",
      "Epoch 7 Batch 250 Loss 2.3167 Accuracy 0.5653\n",
      "Epoch 7 Batch 300 Loss 2.3190 Accuracy 0.5649\n",
      "Epoch 7 Batch 350 Loss 2.3187 Accuracy 0.5649\n",
      "Epoch 7 Batch 400 Loss 2.3198 Accuracy 0.5650\n",
      "Epoch 7 Batch 450 Loss 2.3210 Accuracy 0.5649\n",
      "Epoch 7 Batch 500 Loss 2.3235 Accuracy 0.5647\n",
      "Epoch 7 Batch 550 Loss 2.3235 Accuracy 0.5648\n",
      "Epoch 7 Batch 600 Loss 2.3221 Accuracy 0.5649\n",
      "Epoch 7 Batch 650 Loss 2.3204 Accuracy 0.5652\n",
      "Epoch 7 Batch 700 Loss 2.3216 Accuracy 0.5652\n",
      "Epoch 7 Loss 2.3215 Accuracy 0.5653\n",
      "Time taken for 1 epoch: 172.9895236492157 secs\n",
      "\n",
      "Epoch 8 Batch 0 Loss 2.1045 Accuracy 0.5918\n",
      "Epoch 8 Batch 50 Loss 2.0665 Accuracy 0.5978\n",
      "Epoch 8 Batch 100 Loss 2.0568 Accuracy 0.5981\n",
      "Epoch 8 Batch 150 Loss 2.0659 Accuracy 0.5957\n",
      "Epoch 8 Batch 200 Loss 2.0726 Accuracy 0.5946\n",
      "Epoch 8 Batch 250 Loss 2.0783 Accuracy 0.5943\n",
      "Epoch 8 Batch 300 Loss 2.0804 Accuracy 0.5944\n",
      "Epoch 8 Batch 350 Loss 2.0831 Accuracy 0.5940\n",
      "Epoch 8 Batch 400 Loss 2.0839 Accuracy 0.5939\n",
      "Epoch 8 Batch 450 Loss 2.0818 Accuracy 0.5944\n",
      "Epoch 8 Batch 500 Loss 2.0820 Accuracy 0.5944\n",
      "Epoch 8 Batch 550 Loss 2.0854 Accuracy 0.5942\n",
      "Epoch 8 Batch 600 Loss 2.0876 Accuracy 0.5940\n",
      "Epoch 8 Batch 650 Loss 2.0870 Accuracy 0.5943\n",
      "Epoch 8 Batch 700 Loss 2.0870 Accuracy 0.5944\n",
      "Epoch 8 Loss 2.0873 Accuracy 0.5944\n",
      "Time taken for 1 epoch: 172.62003207206726 secs\n",
      "\n",
      "Epoch 9 Batch 0 Loss 1.8295 Accuracy 0.6125\n",
      "Epoch 9 Batch 50 Loss 1.8451 Accuracy 0.6259\n",
      "Epoch 9 Batch 100 Loss 1.8504 Accuracy 0.6248\n",
      "Epoch 9 Batch 150 Loss 1.8600 Accuracy 0.6238\n",
      "Epoch 9 Batch 200 Loss 1.8606 Accuracy 0.6234\n",
      "Epoch 9 Batch 250 Loss 1.8689 Accuracy 0.6222\n",
      "Epoch 9 Batch 300 Loss 1.8775 Accuracy 0.6207\n",
      "Epoch 9 Batch 350 Loss 1.8798 Accuracy 0.6201\n",
      "Epoch 9 Batch 400 Loss 1.8806 Accuracy 0.6201\n",
      "Epoch 9 Batch 450 Loss 1.8856 Accuracy 0.6195\n",
      "Epoch 9 Batch 500 Loss 1.8895 Accuracy 0.6192\n",
      "Epoch 9 Batch 550 Loss 1.8929 Accuracy 0.6189\n",
      "Epoch 9 Batch 600 Loss 1.8957 Accuracy 0.6188\n",
      "Epoch 9 Batch 650 Loss 1.8968 Accuracy 0.6188\n",
      "Epoch 9 Batch 700 Loss 1.8987 Accuracy 0.6186\n",
      "Epoch 9 Loss 1.8987 Accuracy 0.6186\n",
      "Time taken for 1 epoch: 172.29226088523865 secs\n",
      "\n",
      "Epoch 10 Batch 0 Loss 1.6354 Accuracy 0.6593\n",
      "Epoch 10 Batch 50 Loss 1.6788 Accuracy 0.6491\n",
      "Epoch 10 Batch 100 Loss 1.6838 Accuracy 0.6481\n",
      "Epoch 10 Batch 150 Loss 1.6940 Accuracy 0.6462\n",
      "Epoch 10 Batch 200 Loss 1.7050 Accuracy 0.6442\n",
      "Epoch 10 Batch 250 Loss 1.7110 Accuracy 0.6436\n",
      "Epoch 10 Batch 300 Loss 1.7174 Accuracy 0.6427\n",
      "Epoch 10 Batch 350 Loss 1.7170 Accuracy 0.6426\n",
      "Epoch 10 Batch 400 Loss 1.7202 Accuracy 0.6420\n",
      "Epoch 10 Batch 450 Loss 1.7226 Accuracy 0.6419\n",
      "Epoch 10 Batch 500 Loss 1.7251 Accuracy 0.6416\n",
      "Epoch 10 Batch 550 Loss 1.7272 Accuracy 0.6413\n",
      "Epoch 10 Batch 600 Loss 1.7305 Accuracy 0.6409\n",
      "Epoch 10 Batch 650 Loss 1.7347 Accuracy 0.6403\n",
      "Epoch 10 Batch 700 Loss 1.7395 Accuracy 0.6397\n",
      "Saving checkpoint for epoch 10 at ./checkpoints/train/ckpt-2\n",
      "Epoch 10 Loss 1.7393 Accuracy 0.6397\n",
      "Time taken for 1 epoch: 174.36539721488953 secs\n",
      "\n",
      "Epoch 11 Batch 0 Loss 1.5217 Accuracy 0.6819\n",
      "Epoch 11 Batch 50 Loss 1.5134 Accuracy 0.6750\n",
      "Epoch 11 Batch 100 Loss 1.5192 Accuracy 0.6717\n",
      "Epoch 11 Batch 150 Loss 1.5330 Accuracy 0.6693\n",
      "Epoch 11 Batch 200 Loss 1.5413 Accuracy 0.6676\n",
      "Epoch 11 Batch 250 Loss 1.5494 Accuracy 0.6669\n",
      "Epoch 11 Batch 300 Loss 1.5607 Accuracy 0.6656\n",
      "Epoch 11 Batch 350 Loss 1.5639 Accuracy 0.6653\n",
      "Epoch 11 Batch 400 Loss 1.5695 Accuracy 0.6644\n",
      "Epoch 11 Batch 450 Loss 1.5709 Accuracy 0.6642\n",
      "Epoch 11 Batch 500 Loss 1.5788 Accuracy 0.6630\n",
      "Epoch 11 Batch 550 Loss 1.5822 Accuracy 0.6624\n",
      "Epoch 11 Batch 600 Loss 1.5858 Accuracy 0.6618\n",
      "Epoch 11 Batch 650 Loss 1.5905 Accuracy 0.6612\n",
      "Epoch 11 Batch 700 Loss 1.5945 Accuracy 0.6607\n",
      "Epoch 11 Loss 1.5947 Accuracy 0.6606\n",
      "Time taken for 1 epoch: 172.64696717262268 secs\n",
      "\n",
      "Epoch 12 Batch 0 Loss 1.4335 Accuracy 0.6699\n",
      "Epoch 12 Batch 50 Loss 1.4097 Accuracy 0.6867\n",
      "Epoch 12 Batch 100 Loss 1.4041 Accuracy 0.6878\n",
      "Epoch 12 Batch 150 Loss 1.4086 Accuracy 0.6872\n",
      "Epoch 12 Batch 200 Loss 1.4226 Accuracy 0.6850\n",
      "Epoch 12 Batch 250 Loss 1.4262 Accuracy 0.6846\n",
      "Epoch 12 Batch 300 Loss 1.4325 Accuracy 0.6836\n",
      "Epoch 12 Batch 350 Loss 1.4363 Accuracy 0.6832\n",
      "Epoch 12 Batch 400 Loss 1.4385 Accuracy 0.6828\n",
      "Epoch 12 Batch 450 Loss 1.4419 Accuracy 0.6823\n",
      "Epoch 12 Batch 500 Loss 1.4470 Accuracy 0.6815\n",
      "Epoch 12 Batch 550 Loss 1.4513 Accuracy 0.6808\n",
      "Epoch 12 Batch 600 Loss 1.4568 Accuracy 0.6800\n",
      "Epoch 12 Batch 650 Loss 1.4604 Accuracy 0.6797\n",
      "Epoch 12 Batch 700 Loss 1.4641 Accuracy 0.6792\n",
      "Epoch 12 Loss 1.4640 Accuracy 0.6793\n",
      "Time taken for 1 epoch: 172.60138320922852 secs\n",
      "\n",
      "Epoch 13 Batch 0 Loss 1.3067 Accuracy 0.6900\n",
      "Epoch 13 Batch 50 Loss 1.2891 Accuracy 0.7064\n",
      "Epoch 13 Batch 100 Loss 1.2918 Accuracy 0.7052\n",
      "Epoch 13 Batch 150 Loss 1.2986 Accuracy 0.7044\n",
      "Epoch 13 Batch 200 Loss 1.3003 Accuracy 0.7049\n",
      "Epoch 13 Batch 250 Loss 1.3025 Accuracy 0.7046\n",
      "Epoch 13 Batch 300 Loss 1.3094 Accuracy 0.7032\n",
      "Epoch 13 Batch 350 Loss 1.3148 Accuracy 0.7025\n",
      "Epoch 13 Batch 400 Loss 1.3191 Accuracy 0.7015\n",
      "Epoch 13 Batch 450 Loss 1.3238 Accuracy 0.7006\n",
      "Epoch 13 Batch 500 Loss 1.3259 Accuracy 0.7004\n",
      "Epoch 13 Batch 550 Loss 1.3297 Accuracy 0.7000\n",
      "Epoch 13 Batch 600 Loss 1.3355 Accuracy 0.6991\n",
      "Epoch 13 Batch 650 Loss 1.3400 Accuracy 0.6984\n",
      "Epoch 13 Batch 700 Loss 1.3456 Accuracy 0.6976\n",
      "Epoch 13 Loss 1.3459 Accuracy 0.6976\n",
      "Time taken for 1 epoch: 171.93413949012756 secs\n",
      "\n",
      "Epoch 14 Batch 0 Loss 1.0282 Accuracy 0.7591\n",
      "Epoch 14 Batch 50 Loss 1.1653 Accuracy 0.7266\n",
      "Epoch 14 Batch 100 Loss 1.1782 Accuracy 0.7241\n",
      "Epoch 14 Batch 150 Loss 1.1820 Accuracy 0.7237\n",
      "Epoch 14 Batch 200 Loss 1.1859 Accuracy 0.7234\n",
      "Epoch 14 Batch 250 Loss 1.1867 Accuracy 0.7235\n",
      "Epoch 14 Batch 300 Loss 1.1929 Accuracy 0.7222\n",
      "Epoch 14 Batch 350 Loss 1.1993 Accuracy 0.7211\n",
      "Epoch 14 Batch 400 Loss 1.2040 Accuracy 0.7203\n",
      "Epoch 14 Batch 450 Loss 1.2112 Accuracy 0.7192\n",
      "Epoch 14 Batch 500 Loss 1.2170 Accuracy 0.7180\n",
      "Epoch 14 Batch 550 Loss 1.2217 Accuracy 0.7172\n",
      "Epoch 14 Batch 600 Loss 1.2280 Accuracy 0.7162\n",
      "Epoch 14 Batch 650 Loss 1.2334 Accuracy 0.7152\n",
      "Epoch 14 Batch 700 Loss 1.2394 Accuracy 0.7143\n",
      "Epoch 14 Loss 1.2400 Accuracy 0.7142\n",
      "Time taken for 1 epoch: 171.98328924179077 secs\n",
      "\n",
      "Epoch 15 Batch 0 Loss 0.9120 Accuracy 0.7694\n",
      "Epoch 15 Batch 50 Loss 1.0430 Accuracy 0.7501\n",
      "Epoch 15 Batch 100 Loss 1.0594 Accuracy 0.7465\n",
      "Epoch 15 Batch 150 Loss 1.0743 Accuracy 0.7440\n",
      "Epoch 15 Batch 200 Loss 1.0887 Accuracy 0.7410\n",
      "Epoch 15 Batch 250 Loss 1.0963 Accuracy 0.7394\n",
      "Epoch 15 Batch 300 Loss 1.1006 Accuracy 0.7386\n",
      "Epoch 15 Batch 350 Loss 1.1076 Accuracy 0.7371\n",
      "Epoch 15 Batch 400 Loss 1.1109 Accuracy 0.7367\n",
      "Epoch 15 Batch 450 Loss 1.1161 Accuracy 0.7357\n",
      "Epoch 15 Batch 500 Loss 1.1192 Accuracy 0.7351\n",
      "Epoch 15 Batch 550 Loss 1.1242 Accuracy 0.7341\n",
      "Epoch 15 Batch 600 Loss 1.1302 Accuracy 0.7329\n",
      "Epoch 15 Batch 650 Loss 1.1356 Accuracy 0.7321\n",
      "Epoch 15 Batch 700 Loss 1.1406 Accuracy 0.7311\n",
      "Saving checkpoint for epoch 15 at ./checkpoints/train/ckpt-3\n",
      "Epoch 15 Loss 1.1406 Accuracy 0.7311\n",
      "Time taken for 1 epoch: 173.62441492080688 secs\n",
      "\n",
      "Epoch 16 Batch 0 Loss 0.9313 Accuracy 0.7674\n",
      "Epoch 16 Batch 50 Loss 0.9680 Accuracy 0.7642\n",
      "Epoch 16 Batch 100 Loss 0.9769 Accuracy 0.7617\n",
      "Epoch 16 Batch 150 Loss 0.9844 Accuracy 0.7602\n",
      "Epoch 16 Batch 200 Loss 0.9917 Accuracy 0.7592\n",
      "Epoch 16 Batch 250 Loss 0.9961 Accuracy 0.7587\n",
      "Epoch 16 Batch 300 Loss 0.9996 Accuracy 0.7580\n",
      "Epoch 16 Batch 350 Loss 1.0069 Accuracy 0.7566\n",
      "Epoch 16 Batch 400 Loss 1.0120 Accuracy 0.7553\n",
      "Epoch 16 Batch 450 Loss 1.0188 Accuracy 0.7535\n",
      "Epoch 16 Batch 500 Loss 1.0256 Accuracy 0.7520\n",
      "Epoch 16 Batch 550 Loss 1.0299 Accuracy 0.7512\n",
      "Epoch 16 Batch 600 Loss 1.0355 Accuracy 0.7500\n",
      "Epoch 16 Batch 650 Loss 1.0413 Accuracy 0.7488\n",
      "Epoch 16 Batch 700 Loss 1.0485 Accuracy 0.7474\n",
      "Epoch 16 Loss 1.0485 Accuracy 0.7474\n",
      "Time taken for 1 epoch: 171.90685081481934 secs\n",
      "\n",
      "Epoch 17 Batch 0 Loss 0.7862 Accuracy 0.7980\n",
      "Epoch 17 Batch 50 Loss 0.8965 Accuracy 0.7753\n",
      "Epoch 17 Batch 100 Loss 0.8952 Accuracy 0.7762\n",
      "Epoch 17 Batch 150 Loss 0.9014 Accuracy 0.7750\n",
      "Epoch 17 Batch 200 Loss 0.9111 Accuracy 0.7729\n",
      "Epoch 17 Batch 250 Loss 0.9200 Accuracy 0.7708\n",
      "Epoch 17 Batch 300 Loss 0.9237 Accuracy 0.7700\n",
      "Epoch 17 Batch 350 Loss 0.9326 Accuracy 0.7681\n",
      "Epoch 17 Batch 400 Loss 0.9345 Accuracy 0.7675\n",
      "Epoch 17 Batch 450 Loss 0.9402 Accuracy 0.7663\n",
      "Epoch 17 Batch 500 Loss 0.9462 Accuracy 0.7652\n",
      "Epoch 17 Batch 550 Loss 0.9509 Accuracy 0.7644\n",
      "Epoch 17 Batch 600 Loss 0.9558 Accuracy 0.7636\n",
      "Epoch 17 Batch 650 Loss 0.9615 Accuracy 0.7625\n",
      "Epoch 17 Batch 700 Loss 0.9662 Accuracy 0.7615\n",
      "Epoch 17 Loss 0.9661 Accuracy 0.7615\n",
      "Time taken for 1 epoch: 171.91918206214905 secs\n",
      "\n",
      "Epoch 18 Batch 0 Loss 0.7900 Accuracy 0.8003\n",
      "Epoch 18 Batch 50 Loss 0.7967 Accuracy 0.7952\n",
      "Epoch 18 Batch 100 Loss 0.8095 Accuracy 0.7934\n",
      "Epoch 18 Batch 150 Loss 0.8205 Accuracy 0.7910\n",
      "Epoch 18 Batch 200 Loss 0.8335 Accuracy 0.7882\n",
      "Epoch 18 Batch 250 Loss 0.8438 Accuracy 0.7861\n",
      "Epoch 18 Batch 300 Loss 0.8488 Accuracy 0.7849\n",
      "Epoch 18 Batch 350 Loss 0.8559 Accuracy 0.7832\n",
      "Epoch 18 Batch 400 Loss 0.8603 Accuracy 0.7821\n",
      "Epoch 18 Batch 450 Loss 0.8660 Accuracy 0.7809\n",
      "Epoch 18 Batch 500 Loss 0.8706 Accuracy 0.7799\n",
      "Epoch 18 Batch 550 Loss 0.8758 Accuracy 0.7789\n",
      "Epoch 18 Batch 600 Loss 0.8808 Accuracy 0.7780\n",
      "Epoch 18 Batch 650 Loss 0.8874 Accuracy 0.7766\n",
      "Epoch 18 Batch 700 Loss 0.8914 Accuracy 0.7758\n",
      "Epoch 18 Loss 0.8914 Accuracy 0.7758\n",
      "Time taken for 1 epoch: 171.65877175331116 secs\n",
      "\n",
      "Epoch 19 Batch 0 Loss 0.7418 Accuracy 0.8204\n",
      "Epoch 19 Batch 50 Loss 0.7481 Accuracy 0.8046\n",
      "Epoch 19 Batch 100 Loss 0.7561 Accuracy 0.8026\n",
      "Epoch 19 Batch 150 Loss 0.7607 Accuracy 0.8021\n",
      "Epoch 19 Batch 200 Loss 0.7680 Accuracy 0.8009\n",
      "Epoch 19 Batch 250 Loss 0.7748 Accuracy 0.7996\n",
      "Epoch 19 Batch 300 Loss 0.7796 Accuracy 0.7986\n",
      "Epoch 19 Batch 350 Loss 0.7853 Accuracy 0.7971\n",
      "Epoch 19 Batch 400 Loss 0.7892 Accuracy 0.7962\n",
      "Epoch 19 Batch 450 Loss 0.7944 Accuracy 0.7950\n",
      "Epoch 19 Batch 500 Loss 0.8009 Accuracy 0.7937\n",
      "Epoch 19 Batch 550 Loss 0.8074 Accuracy 0.7924\n",
      "Epoch 19 Batch 600 Loss 0.8144 Accuracy 0.7908\n",
      "Epoch 19 Batch 650 Loss 0.8194 Accuracy 0.7898\n",
      "Epoch 19 Batch 700 Loss 0.8239 Accuracy 0.7889\n",
      "Epoch 19 Loss 0.8241 Accuracy 0.7889\n",
      "Time taken for 1 epoch: 171.76680731773376 secs\n",
      "\n",
      "Epoch 20 Batch 0 Loss 0.6985 Accuracy 0.8133\n",
      "Epoch 20 Batch 50 Loss 0.6964 Accuracy 0.8179\n",
      "Epoch 20 Batch 100 Loss 0.7056 Accuracy 0.8155\n",
      "Epoch 20 Batch 150 Loss 0.7078 Accuracy 0.8150\n",
      "Epoch 20 Batch 200 Loss 0.7136 Accuracy 0.8134\n",
      "Epoch 20 Batch 250 Loss 0.7209 Accuracy 0.8118\n",
      "Epoch 20 Batch 300 Loss 0.7220 Accuracy 0.8116\n",
      "Epoch 20 Batch 350 Loss 0.7256 Accuracy 0.8106\n",
      "Epoch 20 Batch 400 Loss 0.7285 Accuracy 0.8098\n",
      "Epoch 20 Batch 450 Loss 0.7329 Accuracy 0.8087\n",
      "Epoch 20 Batch 500 Loss 0.7365 Accuracy 0.8079\n",
      "Epoch 20 Batch 550 Loss 0.7424 Accuracy 0.8066\n",
      "Epoch 20 Batch 600 Loss 0.7477 Accuracy 0.8053\n",
      "Epoch 20 Batch 650 Loss 0.7541 Accuracy 0.8039\n",
      "Epoch 20 Batch 700 Loss 0.7601 Accuracy 0.8026\n",
      "Saving checkpoint for epoch 20 at ./checkpoints/train/ckpt-4\n",
      "Epoch 20 Loss 0.7606 Accuracy 0.8024\n",
      "Time taken for 1 epoch: 173.45956707000732 secs\n",
      "\n"
     ]
    }
   ],
   "source": [
    "for epoch in range(EPOCHS):\n",
    "  start = time.time()\n",
    "  \n",
    "  train_loss.reset_states()\n",
    "  train_accuracy.reset_states()\n",
    "  \n",
    "  # inp -> portuguese, tar -> english\n",
    "  for (batch, (inp, tar)) in enumerate(train_dataset):\n",
    "    train_step(inp, tar)\n",
    "    \n",
    "    if batch % 50 == 0:\n",
    "      print ('Epoch {} Batch {} Loss {:.4f} Accuracy {:.4f}'.format(\n",
    "          epoch + 1, batch, train_loss.result(), train_accuracy.result()))\n",
    "      \n",
    "  if (epoch + 1) % 5 == 0:\n",
    "    ckpt_save_path = ckpt_manager.save()\n",
    "    print ('Saving checkpoint for epoch {} at {}'.format(epoch+1,ckpt_save_path))\n",
    "    \n",
    "  print ('Epoch {} Loss {:.4f} Accuracy {:.4f}'.format(epoch + 1,train_loss.result(),train_accuracy.result()))\n",
    "  print ('Time taken for 1 epoch: {} secs\\n'.format(time.time() - start))"
   ]
  },
  {
   "cell_type": "code",
   "execution_count": 31,
   "metadata": {
    "executionInfo": {
     "elapsed": 3643001,
     "status": "ok",
     "timestamp": 1608374456258,
     "user": {
      "displayName": "Ka Tung Cheng",
      "photoUrl": "",
      "userId": "01448164510831113819"
     },
     "user_tz": -480
    },
    "id": "Ee5rS_4ALLiW"
   },
   "outputs": [],
   "source": [
    "def evaluate(inp_sentence):\n",
    "  start_token = [tokenizer_pt.vocab_size]\n",
    "  end_token = [tokenizer_pt.vocab_size + 1]\n",
    "  \n",
    "  # inp sentence is portuguese, hence adding the start and end token\n",
    "  inp_sentence = start_token + tokenizer_pt.encode(inp_sentence) + end_token\n",
    "  encoder_input = tf.expand_dims(inp_sentence, 0)\n",
    "  \n",
    "  # as the target is english, the first word to the transformer should be the\n",
    "  # english start token.\n",
    "  decoder_input = [tokenizer_en.vocab_size]\n",
    "  output = tf.expand_dims(decoder_input, 0)\n",
    "    \n",
    "  for i in range(MAX_LENGTH):\n",
    "    enc_padding_mask, combined_mask, dec_padding_mask = create_masks(\n",
    "        encoder_input, output)\n",
    "  \n",
    "    # predictions.shape == (batch_size, seq_len, vocab_size)\n",
    "    predictions, attention_weights = transformer(encoder_input, output,False,enc_padding_mask,combined_mask,dec_padding_mask)\n",
    "    \n",
    "    # select the last word from the seq_len dimension\n",
    "    predictions = predictions[: ,-1:, :]  # (batch_size, 1, vocab_size)\n",
    "\n",
    "    predicted_id = tf.cast(tf.argmax(predictions, axis=-1), tf.int32)\n",
    "    \n",
    "    # return the result if the predicted_id is equal to the end token\n",
    "    if predicted_id == tokenizer_en.vocab_size+1:\n",
    "      return tf.squeeze(output, axis=0), attention_weights\n",
    "    \n",
    "    # concatentate the predicted_id to the output which is given to the decoder\n",
    "    # as its input.\n",
    "    output = tf.concat([output, predicted_id], axis=-1)\n",
    "\n",
    "  return tf.squeeze(output, axis=0), attention_weights"
   ]
  },
  {
   "cell_type": "code",
   "execution_count": 32,
   "metadata": {
    "executionInfo": {
     "elapsed": 3642997,
     "status": "ok",
     "timestamp": 1608374456258,
     "user": {
      "displayName": "Ka Tung Cheng",
      "photoUrl": "",
      "userId": "01448164510831113819"
     },
     "user_tz": -480
    },
    "id": "i_URNMNMibo5"
   },
   "outputs": [],
   "source": [
    "def plot_attention_weights(attention, sentence, result, layer):\n",
    "  fig = plt.figure(figsize=(16, 8))\n",
    "  \n",
    "  sentence = tokenizer_pt.encode(sentence)\n",
    "  \n",
    "  attention = tf.squeeze(attention[layer], axis=0)\n",
    "  \n",
    "  for head in range(attention.shape[0]):\n",
    "    ax = fig.add_subplot(2, 4, head+1)\n",
    "    \n",
    "    # plot the attention weights\n",
    "    ax.matshow(attention[head][:-1, :], cmap='viridis')\n",
    "\n",
    "    fontdict = {'fontsize': 10}\n",
    "    \n",
    "    ax.set_xticks(range(len(sentence)+2))\n",
    "    ax.set_yticks(range(len(result)))\n",
    "    \n",
    "    ax.set_ylim(len(result)-1.5, -0.5)\n",
    "        \n",
    "    ax.set_xticklabels(['<start>']+[tokenizer_pt.decode([i]) for i in sentence]+['<end>'], \n",
    "        fontdict=fontdict, rotation=90)\n",
    "    \n",
    "    ax.set_yticklabels([tokenizer_en.decode([i]) for i in result if i < tokenizer_en.vocab_size], fontdict=fontdict)\n",
    "    \n",
    "    ax.set_xlabel('Head {}'.format(head+1))\n",
    "  \n",
    "  plt.tight_layout()\n",
    "  plt.show()"
   ]
  },
  {
   "cell_type": "code",
   "execution_count": 33,
   "metadata": {
    "executionInfo": {
     "elapsed": 3642994,
     "status": "ok",
     "timestamp": 1608374456259,
     "user": {
      "displayName": "Ka Tung Cheng",
      "photoUrl": "",
      "userId": "01448164510831113819"
     },
     "user_tz": -480
    },
    "id": "3j6C1C0TieHZ"
   },
   "outputs": [],
   "source": [
    "def translate(sentence, plot=''):\n",
    "  result, attention_weights = evaluate(sentence)\n",
    "  \n",
    "  predicted_sentence = tokenizer_en.decode([i for i in result if i < tokenizer_en.vocab_size])  \n",
    "\n",
    "  print('Input: {}'.format(sentence))\n",
    "  print('Predicted translation: {}'.format(predicted_sentence))\n",
    "  \n",
    "  if plot:\n",
    "    plot_attention_weights(attention_weights, sentence, result, plot)"
   ]
  },
  {
   "cell_type": "code",
   "execution_count": 34,
   "metadata": {
    "colab": {
     "base_uri": "https://localhost:8080/"
    },
    "executionInfo": {
     "elapsed": 3644310,
     "status": "ok",
     "timestamp": 1608374457580,
     "user": {
      "displayName": "Ka Tung Cheng",
      "photoUrl": "",
      "userId": "01448164510831113819"
     },
     "user_tz": -480
    },
    "id": "3JrsBqzYigQ0",
    "outputId": "e733a33d-4aa9-4c77-b782-0b64ba29b85d"
   },
   "outputs": [
    {
     "name": "stdout",
     "output_type": "stream",
     "text": [
      "Input: este é um problema que temos que resolver.\n",
      "Predicted translation: this is a problem that we have to deal with .\n",
      "Real translation: this is a problem we have to solve .\n"
     ]
    }
   ],
   "source": [
    "translate(\"este é um problema que temos que resolver.\")\n",
    "print (\"Real translation: this is a problem we have to solve .\")"
   ]
  },
  {
   "cell_type": "code",
   "execution_count": 35,
   "metadata": {
    "colab": {
     "base_uri": "https://localhost:8080/"
    },
    "executionInfo": {
     "elapsed": 3645216,
     "status": "ok",
     "timestamp": 1608374458490,
     "user": {
      "displayName": "Ka Tung Cheng",
      "photoUrl": "",
      "userId": "01448164510831113819"
     },
     "user_tz": -480
    },
    "id": "2iddAog3ikC7",
    "outputId": "7857420b-e463-4c2d-db53-2e55df6f1a84"
   },
   "outputs": [
    {
     "name": "stdout",
     "output_type": "stream",
     "text": [
      "Input: os meus vizinhos ouviram sobre esta ideia.\n",
      "Predicted translation: my neighbors heard about this idea .\n",
      "Real translation: and my neighboring homes heard about this idea .\n"
     ]
    }
   ],
   "source": [
    "translate(\"os meus vizinhos ouviram sobre esta ideia.\")\n",
    "print (\"Real translation: and my neighboring homes heard about this idea .\")"
   ]
  },
  {
   "cell_type": "code",
   "execution_count": 36,
   "metadata": {
    "colab": {
     "base_uri": "https://localhost:8080/"
    },
    "executionInfo": {
     "elapsed": 3647471,
     "status": "ok",
     "timestamp": 1608374460749,
     "user": {
      "displayName": "Ka Tung Cheng",
      "photoUrl": "",
      "userId": "01448164510831113819"
     },
     "user_tz": -480
    },
    "id": "KZhKRMrfioYS",
    "outputId": "d7fa1662-c234-47fe-ab92-af8e04994feb"
   },
   "outputs": [
    {
     "name": "stdout",
     "output_type": "stream",
     "text": [
      "Input: vou então muito rapidamente partilhar convosco algumas histórias de algumas coisas mágicas que aconteceram.\n",
      "Predicted translation: so i 'm going to really share with you some stories of some magic things that happened to happen .\n",
      "Real translation: so i 'll just share with you some stories very quickly of some magical things that have happened .\n"
     ]
    }
   ],
   "source": [
    "translate(\"vou então muito rapidamente partilhar convosco algumas histórias de algumas coisas mágicas que aconteceram.\")\n",
    "print (\"Real translation: so i 'll just share with you some stories very quickly of some magical things that have happened .\")"
   ]
  },
  {
   "cell_type": "code",
   "execution_count": 37,
   "metadata": {
    "colab": {
     "base_uri": "https://localhost:8080/"
    },
    "executionInfo": {
     "elapsed": 3648156,
     "status": "ok",
     "timestamp": 1608374461438,
     "user": {
      "displayName": "Ka Tung Cheng",
      "photoUrl": "",
      "userId": "01448164510831113819"
     },
     "user_tz": -480
    },
    "id": "kQMfdHPfL1zQ",
    "outputId": "5d977de9-aff3-4ab6-d071-f01af9074b35"
   },
   "outputs": [
    {
     "name": "stdout",
     "output_type": "stream",
     "text": [
      "Input: minha esposa é linda\n",
      "Predicted translation: my wife is beautiful .\n"
     ]
    }
   ],
   "source": [
    "translate(\"minha esposa é linda\")"
   ]
  },
  {
   "cell_type": "code",
   "execution_count": 37,
   "metadata": {
    "executionInfo": {
     "elapsed": 3648153,
     "status": "ok",
     "timestamp": 1608374461439,
     "user": {
      "displayName": "Ka Tung Cheng",
      "photoUrl": "",
      "userId": "01448164510831113819"
     },
     "user_tz": -480
    },
    "id": "zSiU2cLuIOKe"
   },
   "outputs": [],
   "source": []
  }
 ],
 "metadata": {
  "accelerator": "GPU",
  "colab": {
   "name": "Transformer from scratch.ipynb",
   "provenance": []
  },
  "kernelspec": {
   "display_name": "Python 3",
   "language": "python",
   "name": "python3"
  },
  "language_info": {
   "codemirror_mode": {
    "name": "ipython",
    "version": 3
   },
   "file_extension": ".py",
   "mimetype": "text/x-python",
   "name": "python",
   "nbconvert_exporter": "python",
   "pygments_lexer": "ipython3",
   "version": "3.7.9"
  },
  "widgets": {
   "application/vnd.jupyter.widget-state+json": {
    "0471e61c7e334aefb068fb3761383ac0": {
     "model_module": "@jupyter-widgets/controls",
     "model_name": "HBoxModel",
     "state": {
      "_dom_classes": [],
      "_model_module": "@jupyter-widgets/controls",
      "_model_module_version": "1.5.0",
      "_model_name": "HBoxModel",
      "_view_count": null,
      "_view_module": "@jupyter-widgets/controls",
      "_view_module_version": "1.5.0",
      "_view_name": "HBoxView",
      "box_style": "",
      "children": [
       "IPY_MODEL_f823543b8b0246aea96725f9b39619bd",
       "IPY_MODEL_ba232a2b60be45c4aa609a4af3ee8892"
      ],
      "layout": "IPY_MODEL_fa288ebbff6d410ab05f4efc06b104e2"
     }
    },
    "04e1e92ec43b43159d67d6568a91daa4": {
     "model_module": "@jupyter-widgets/base",
     "model_name": "LayoutModel",
     "state": {
      "_model_module": "@jupyter-widgets/base",
      "_model_module_version": "1.2.0",
      "_model_name": "LayoutModel",
      "_view_count": null,
      "_view_module": "@jupyter-widgets/base",
      "_view_module_version": "1.2.0",
      "_view_name": "LayoutView",
      "align_content": null,
      "align_items": null,
      "align_self": null,
      "border": null,
      "bottom": null,
      "display": null,
      "flex": null,
      "flex_flow": null,
      "grid_area": null,
      "grid_auto_columns": null,
      "grid_auto_flow": null,
      "grid_auto_rows": null,
      "grid_column": null,
      "grid_gap": null,
      "grid_row": null,
      "grid_template_areas": null,
      "grid_template_columns": null,
      "grid_template_rows": null,
      "height": null,
      "justify_content": null,
      "justify_items": null,
      "left": null,
      "margin": null,
      "max_height": null,
      "max_width": null,
      "min_height": null,
      "min_width": null,
      "object_fit": null,
      "object_position": null,
      "order": null,
      "overflow": null,
      "overflow_x": null,
      "overflow_y": null,
      "padding": null,
      "right": null,
      "top": null,
      "visibility": null,
      "width": null
     }
    },
    "070b63dfbb94477abd1721e975ce9d74": {
     "model_module": "@jupyter-widgets/base",
     "model_name": "LayoutModel",
     "state": {
      "_model_module": "@jupyter-widgets/base",
      "_model_module_version": "1.2.0",
      "_model_name": "LayoutModel",
      "_view_count": null,
      "_view_module": "@jupyter-widgets/base",
      "_view_module_version": "1.2.0",
      "_view_name": "LayoutView",
      "align_content": null,
      "align_items": null,
      "align_self": null,
      "border": null,
      "bottom": null,
      "display": null,
      "flex": null,
      "flex_flow": null,
      "grid_area": null,
      "grid_auto_columns": null,
      "grid_auto_flow": null,
      "grid_auto_rows": null,
      "grid_column": null,
      "grid_gap": null,
      "grid_row": null,
      "grid_template_areas": null,
      "grid_template_columns": null,
      "grid_template_rows": null,
      "height": null,
      "justify_content": null,
      "justify_items": null,
      "left": null,
      "margin": null,
      "max_height": null,
      "max_width": null,
      "min_height": null,
      "min_width": null,
      "object_fit": null,
      "object_position": null,
      "order": null,
      "overflow": null,
      "overflow_x": null,
      "overflow_y": null,
      "padding": null,
      "right": null,
      "top": null,
      "visibility": null,
      "width": null
     }
    },
    "073a7c3735e34ee3b192524542a8c032": {
     "model_module": "@jupyter-widgets/base",
     "model_name": "LayoutModel",
     "state": {
      "_model_module": "@jupyter-widgets/base",
      "_model_module_version": "1.2.0",
      "_model_name": "LayoutModel",
      "_view_count": null,
      "_view_module": "@jupyter-widgets/base",
      "_view_module_version": "1.2.0",
      "_view_name": "LayoutView",
      "align_content": null,
      "align_items": null,
      "align_self": null,
      "border": null,
      "bottom": null,
      "display": null,
      "flex": null,
      "flex_flow": null,
      "grid_area": null,
      "grid_auto_columns": null,
      "grid_auto_flow": null,
      "grid_auto_rows": null,
      "grid_column": null,
      "grid_gap": null,
      "grid_row": null,
      "grid_template_areas": null,
      "grid_template_columns": null,
      "grid_template_rows": null,
      "height": null,
      "justify_content": null,
      "justify_items": null,
      "left": null,
      "margin": null,
      "max_height": null,
      "max_width": null,
      "min_height": null,
      "min_width": null,
      "object_fit": null,
      "object_position": null,
      "order": null,
      "overflow": null,
      "overflow_x": null,
      "overflow_y": null,
      "padding": null,
      "right": null,
      "top": null,
      "visibility": null,
      "width": null
     }
    },
    "0ded62ba1bc34ccd9487a52638fc6b44": {
     "model_module": "@jupyter-widgets/controls",
     "model_name": "FloatProgressModel",
     "state": {
      "_dom_classes": [],
      "_model_module": "@jupyter-widgets/controls",
      "_model_module_version": "1.5.0",
      "_model_name": "FloatProgressModel",
      "_view_count": null,
      "_view_module": "@jupyter-widgets/controls",
      "_view_module_version": "1.5.0",
      "_view_name": "ProgressView",
      "bar_style": "success",
      "description": "Extraction completed...: 100%",
      "description_tooltip": null,
      "layout": "IPY_MODEL_4e00b52f16b741a5b07704331875fac7",
      "max": 1,
      "min": 0,
      "orientation": "horizontal",
      "style": "IPY_MODEL_0e316550890749e7a44e960f96ea630e",
      "value": 1
     }
    },
    "0e316550890749e7a44e960f96ea630e": {
     "model_module": "@jupyter-widgets/controls",
     "model_name": "ProgressStyleModel",
     "state": {
      "_model_module": "@jupyter-widgets/controls",
      "_model_module_version": "1.5.0",
      "_model_name": "ProgressStyleModel",
      "_view_count": null,
      "_view_module": "@jupyter-widgets/base",
      "_view_module_version": "1.2.0",
      "_view_name": "StyleView",
      "bar_color": null,
      "description_width": "initial"
     }
    },
    "0e4dcabef1f44bd1a5cd9c9a130b73b1": {
     "model_module": "@jupyter-widgets/controls",
     "model_name": "ProgressStyleModel",
     "state": {
      "_model_module": "@jupyter-widgets/controls",
      "_model_module_version": "1.5.0",
      "_model_name": "ProgressStyleModel",
      "_view_count": null,
      "_view_module": "@jupyter-widgets/base",
      "_view_module_version": "1.2.0",
      "_view_name": "StyleView",
      "bar_color": null,
      "description_width": "initial"
     }
    },
    "17b29df8743e4b1eba2aa701e74c2473": {
     "model_module": "@jupyter-widgets/controls",
     "model_name": "FloatProgressModel",
     "state": {
      "_dom_classes": [],
      "_model_module": "@jupyter-widgets/controls",
      "_model_module_version": "1.5.0",
      "_model_name": "FloatProgressModel",
      "_view_count": null,
      "_view_module": "@jupyter-widgets/controls",
      "_view_module_version": "1.5.0",
      "_view_name": "ProgressView",
      "bar_style": "danger",
      "description": "  0%",
      "description_tooltip": null,
      "layout": "IPY_MODEL_2302520b8ac94234bf8888870040b36c",
      "max": 1803,
      "min": 0,
      "orientation": "horizontal",
      "style": "IPY_MODEL_4796f3403d9d442aba86e3e89a548e78",
      "value": 0
     }
    },
    "187e2f4575984e9c996ed133fe2f9f67": {
     "model_module": "@jupyter-widgets/base",
     "model_name": "LayoutModel",
     "state": {
      "_model_module": "@jupyter-widgets/base",
      "_model_module_version": "1.2.0",
      "_model_name": "LayoutModel",
      "_view_count": null,
      "_view_module": "@jupyter-widgets/base",
      "_view_module_version": "1.2.0",
      "_view_name": "LayoutView",
      "align_content": null,
      "align_items": null,
      "align_self": null,
      "border": null,
      "bottom": null,
      "display": null,
      "flex": null,
      "flex_flow": null,
      "grid_area": null,
      "grid_auto_columns": null,
      "grid_auto_flow": null,
      "grid_auto_rows": null,
      "grid_column": null,
      "grid_gap": null,
      "grid_row": null,
      "grid_template_areas": null,
      "grid_template_columns": null,
      "grid_template_rows": null,
      "height": null,
      "justify_content": null,
      "justify_items": null,
      "left": null,
      "margin": null,
      "max_height": null,
      "max_width": null,
      "min_height": null,
      "min_width": null,
      "object_fit": null,
      "object_position": null,
      "order": null,
      "overflow": null,
      "overflow_x": null,
      "overflow_y": null,
      "padding": null,
      "right": null,
      "top": null,
      "visibility": null,
      "width": null
     }
    },
    "1dac0439196a4e69bbe2bb44fd76e6b5": {
     "model_module": "@jupyter-widgets/controls",
     "model_name": "ProgressStyleModel",
     "state": {
      "_model_module": "@jupyter-widgets/controls",
      "_model_module_version": "1.5.0",
      "_model_name": "ProgressStyleModel",
      "_view_count": null,
      "_view_module": "@jupyter-widgets/base",
      "_view_module_version": "1.2.0",
      "_view_name": "StyleView",
      "bar_color": null,
      "description_width": "initial"
     }
    },
    "2302520b8ac94234bf8888870040b36c": {
     "model_module": "@jupyter-widgets/base",
     "model_name": "LayoutModel",
     "state": {
      "_model_module": "@jupyter-widgets/base",
      "_model_module_version": "1.2.0",
      "_model_name": "LayoutModel",
      "_view_count": null,
      "_view_module": "@jupyter-widgets/base",
      "_view_module_version": "1.2.0",
      "_view_name": "LayoutView",
      "align_content": null,
      "align_items": null,
      "align_self": null,
      "border": null,
      "bottom": null,
      "display": null,
      "flex": null,
      "flex_flow": null,
      "grid_area": null,
      "grid_auto_columns": null,
      "grid_auto_flow": null,
      "grid_auto_rows": null,
      "grid_column": null,
      "grid_gap": null,
      "grid_row": null,
      "grid_template_areas": null,
      "grid_template_columns": null,
      "grid_template_rows": null,
      "height": null,
      "justify_content": null,
      "justify_items": null,
      "left": null,
      "margin": null,
      "max_height": null,
      "max_width": null,
      "min_height": null,
      "min_width": null,
      "object_fit": null,
      "object_position": null,
      "order": null,
      "overflow": null,
      "overflow_x": null,
      "overflow_y": null,
      "padding": null,
      "right": null,
      "top": null,
      "visibility": null,
      "width": null
     }
    },
    "25130efb069a4f939876105712d4560a": {
     "model_module": "@jupyter-widgets/base",
     "model_name": "LayoutModel",
     "state": {
      "_model_module": "@jupyter-widgets/base",
      "_model_module_version": "1.2.0",
      "_model_name": "LayoutModel",
      "_view_count": null,
      "_view_module": "@jupyter-widgets/base",
      "_view_module_version": "1.2.0",
      "_view_name": "LayoutView",
      "align_content": null,
      "align_items": null,
      "align_self": null,
      "border": null,
      "bottom": null,
      "display": null,
      "flex": null,
      "flex_flow": null,
      "grid_area": null,
      "grid_auto_columns": null,
      "grid_auto_flow": null,
      "grid_auto_rows": null,
      "grid_column": null,
      "grid_gap": null,
      "grid_row": null,
      "grid_template_areas": null,
      "grid_template_columns": null,
      "grid_template_rows": null,
      "height": null,
      "justify_content": null,
      "justify_items": null,
      "left": null,
      "margin": null,
      "max_height": null,
      "max_width": null,
      "min_height": null,
      "min_width": null,
      "object_fit": null,
      "object_position": null,
      "order": null,
      "overflow": null,
      "overflow_x": null,
      "overflow_y": null,
      "padding": null,
      "right": null,
      "top": null,
      "visibility": null,
      "width": null
     }
    },
    "25eef55ed3084a76b0bf9a39ae231c7f": {
     "model_module": "@jupyter-widgets/controls",
     "model_name": "HBoxModel",
     "state": {
      "_dom_classes": [],
      "_model_module": "@jupyter-widgets/controls",
      "_model_module_version": "1.5.0",
      "_model_name": "HBoxModel",
      "_view_count": null,
      "_view_module": "@jupyter-widgets/controls",
      "_view_module_version": "1.5.0",
      "_view_name": "HBoxView",
      "box_style": "",
      "children": [
       "IPY_MODEL_4805474a54c14b808da66510a6fd4b2e",
       "IPY_MODEL_6cf4f54720cc4153aff0698c87d8db75"
      ],
      "layout": "IPY_MODEL_33495eea151d434ebce27fc3cb9b2019"
     }
    },
    "2667f83a7515487887b2ad3cba0418ba": {
     "model_module": "@jupyter-widgets/base",
     "model_name": "LayoutModel",
     "state": {
      "_model_module": "@jupyter-widgets/base",
      "_model_module_version": "1.2.0",
      "_model_name": "LayoutModel",
      "_view_count": null,
      "_view_module": "@jupyter-widgets/base",
      "_view_module_version": "1.2.0",
      "_view_name": "LayoutView",
      "align_content": null,
      "align_items": null,
      "align_self": null,
      "border": null,
      "bottom": null,
      "display": null,
      "flex": null,
      "flex_flow": null,
      "grid_area": null,
      "grid_auto_columns": null,
      "grid_auto_flow": null,
      "grid_auto_rows": null,
      "grid_column": null,
      "grid_gap": null,
      "grid_row": null,
      "grid_template_areas": null,
      "grid_template_columns": null,
      "grid_template_rows": null,
      "height": null,
      "justify_content": null,
      "justify_items": null,
      "left": null,
      "margin": null,
      "max_height": null,
      "max_width": null,
      "min_height": null,
      "min_width": null,
      "object_fit": null,
      "object_position": null,
      "order": null,
      "overflow": null,
      "overflow_x": null,
      "overflow_y": null,
      "padding": null,
      "right": null,
      "top": null,
      "visibility": null,
      "width": null
     }
    },
    "275a65ed955c4f6d9732a5f6aa918305": {
     "model_module": "@jupyter-widgets/base",
     "model_name": "LayoutModel",
     "state": {
      "_model_module": "@jupyter-widgets/base",
      "_model_module_version": "1.2.0",
      "_model_name": "LayoutModel",
      "_view_count": null,
      "_view_module": "@jupyter-widgets/base",
      "_view_module_version": "1.2.0",
      "_view_name": "LayoutView",
      "align_content": null,
      "align_items": null,
      "align_self": null,
      "border": null,
      "bottom": null,
      "display": null,
      "flex": null,
      "flex_flow": null,
      "grid_area": null,
      "grid_auto_columns": null,
      "grid_auto_flow": null,
      "grid_auto_rows": null,
      "grid_column": null,
      "grid_gap": null,
      "grid_row": null,
      "grid_template_areas": null,
      "grid_template_columns": null,
      "grid_template_rows": null,
      "height": null,
      "justify_content": null,
      "justify_items": null,
      "left": null,
      "margin": null,
      "max_height": null,
      "max_width": null,
      "min_height": null,
      "min_width": null,
      "object_fit": null,
      "object_position": null,
      "order": null,
      "overflow": null,
      "overflow_x": null,
      "overflow_y": null,
      "padding": null,
      "right": null,
      "top": null,
      "visibility": null,
      "width": null
     }
    },
    "2ec3c9da89284083bb0eb5ad5e47cb7f": {
     "model_module": "@jupyter-widgets/controls",
     "model_name": "DescriptionStyleModel",
     "state": {
      "_model_module": "@jupyter-widgets/controls",
      "_model_module_version": "1.5.0",
      "_model_name": "DescriptionStyleModel",
      "_view_count": null,
      "_view_module": "@jupyter-widgets/base",
      "_view_module_version": "1.2.0",
      "_view_name": "StyleView",
      "description_width": ""
     }
    },
    "2ee71383ec34445883299bba8ccaaea1": {
     "model_module": "@jupyter-widgets/controls",
     "model_name": "DescriptionStyleModel",
     "state": {
      "_model_module": "@jupyter-widgets/controls",
      "_model_module_version": "1.5.0",
      "_model_name": "DescriptionStyleModel",
      "_view_count": null,
      "_view_module": "@jupyter-widgets/base",
      "_view_module_version": "1.2.0",
      "_view_name": "StyleView",
      "description_width": ""
     }
    },
    "2f386c054d374babb7cb5f7f359232fb": {
     "model_module": "@jupyter-widgets/controls",
     "model_name": "DescriptionStyleModel",
     "state": {
      "_model_module": "@jupyter-widgets/controls",
      "_model_module_version": "1.5.0",
      "_model_name": "DescriptionStyleModel",
      "_view_count": null,
      "_view_module": "@jupyter-widgets/base",
      "_view_module_version": "1.2.0",
      "_view_name": "StyleView",
      "description_width": ""
     }
    },
    "30b7ee0db33b4b6e9843eabdaf5c2603": {
     "model_module": "@jupyter-widgets/base",
     "model_name": "LayoutModel",
     "state": {
      "_model_module": "@jupyter-widgets/base",
      "_model_module_version": "1.2.0",
      "_model_name": "LayoutModel",
      "_view_count": null,
      "_view_module": "@jupyter-widgets/base",
      "_view_module_version": "1.2.0",
      "_view_name": "LayoutView",
      "align_content": null,
      "align_items": null,
      "align_self": null,
      "border": null,
      "bottom": null,
      "display": null,
      "flex": null,
      "flex_flow": null,
      "grid_area": null,
      "grid_auto_columns": null,
      "grid_auto_flow": null,
      "grid_auto_rows": null,
      "grid_column": null,
      "grid_gap": null,
      "grid_row": null,
      "grid_template_areas": null,
      "grid_template_columns": null,
      "grid_template_rows": null,
      "height": null,
      "justify_content": null,
      "justify_items": null,
      "left": null,
      "margin": null,
      "max_height": null,
      "max_width": null,
      "min_height": null,
      "min_width": null,
      "object_fit": null,
      "object_position": null,
      "order": null,
      "overflow": null,
      "overflow_x": null,
      "overflow_y": null,
      "padding": null,
      "right": null,
      "top": null,
      "visibility": null,
      "width": null
     }
    },
    "33495eea151d434ebce27fc3cb9b2019": {
     "model_module": "@jupyter-widgets/base",
     "model_name": "LayoutModel",
     "state": {
      "_model_module": "@jupyter-widgets/base",
      "_model_module_version": "1.2.0",
      "_model_name": "LayoutModel",
      "_view_count": null,
      "_view_module": "@jupyter-widgets/base",
      "_view_module_version": "1.2.0",
      "_view_name": "LayoutView",
      "align_content": null,
      "align_items": null,
      "align_self": null,
      "border": null,
      "bottom": null,
      "display": null,
      "flex": null,
      "flex_flow": null,
      "grid_area": null,
      "grid_auto_columns": null,
      "grid_auto_flow": null,
      "grid_auto_rows": null,
      "grid_column": null,
      "grid_gap": null,
      "grid_row": null,
      "grid_template_areas": null,
      "grid_template_columns": null,
      "grid_template_rows": null,
      "height": null,
      "justify_content": null,
      "justify_items": null,
      "left": null,
      "margin": null,
      "max_height": null,
      "max_width": null,
      "min_height": null,
      "min_width": null,
      "object_fit": null,
      "object_position": null,
      "order": null,
      "overflow": null,
      "overflow_x": null,
      "overflow_y": null,
      "padding": null,
      "right": null,
      "top": null,
      "visibility": null,
      "width": null
     }
    },
    "36cbbe64fa8b4f0481cdcb0492ce003c": {
     "model_module": "@jupyter-widgets/base",
     "model_name": "LayoutModel",
     "state": {
      "_model_module": "@jupyter-widgets/base",
      "_model_module_version": "1.2.0",
      "_model_name": "LayoutModel",
      "_view_count": null,
      "_view_module": "@jupyter-widgets/base",
      "_view_module_version": "1.2.0",
      "_view_name": "LayoutView",
      "align_content": null,
      "align_items": null,
      "align_self": null,
      "border": null,
      "bottom": null,
      "display": null,
      "flex": null,
      "flex_flow": null,
      "grid_area": null,
      "grid_auto_columns": null,
      "grid_auto_flow": null,
      "grid_auto_rows": null,
      "grid_column": null,
      "grid_gap": null,
      "grid_row": null,
      "grid_template_areas": null,
      "grid_template_columns": null,
      "grid_template_rows": null,
      "height": null,
      "justify_content": null,
      "justify_items": null,
      "left": null,
      "margin": null,
      "max_height": null,
      "max_width": null,
      "min_height": null,
      "min_width": null,
      "object_fit": null,
      "object_position": null,
      "order": null,
      "overflow": null,
      "overflow_x": null,
      "overflow_y": null,
      "padding": null,
      "right": null,
      "top": null,
      "visibility": null,
      "width": null
     }
    },
    "37f6c5c8cce049ec88988a838f347300": {
     "model_module": "@jupyter-widgets/controls",
     "model_name": "DescriptionStyleModel",
     "state": {
      "_model_module": "@jupyter-widgets/controls",
      "_model_module_version": "1.5.0",
      "_model_name": "DescriptionStyleModel",
      "_view_count": null,
      "_view_module": "@jupyter-widgets/base",
      "_view_module_version": "1.2.0",
      "_view_name": "StyleView",
      "description_width": ""
     }
    },
    "383f8249dac04494ae28a2129663943b": {
     "model_module": "@jupyter-widgets/controls",
     "model_name": "HTMLModel",
     "state": {
      "_dom_classes": [],
      "_model_module": "@jupyter-widgets/controls",
      "_model_module_version": "1.5.0",
      "_model_name": "HTMLModel",
      "_view_count": null,
      "_view_module": "@jupyter-widgets/controls",
      "_view_module_version": "1.5.0",
      "_view_name": "HTMLView",
      "description": "",
      "description_tooltip": null,
      "layout": "IPY_MODEL_3f51a156840b473793c62ebc665c66b0",
      "placeholder": "​",
      "style": "IPY_MODEL_9872c541d590405ebf0e053f4ddc6efd",
      "value": " 1193/0 [00:00&lt;00:00, 4387.79 examples/s]"
     }
    },
    "3b0243d7a777471b8eb2270b997b5886": {
     "model_module": "@jupyter-widgets/base",
     "model_name": "LayoutModel",
     "state": {
      "_model_module": "@jupyter-widgets/base",
      "_model_module_version": "1.2.0",
      "_model_name": "LayoutModel",
      "_view_count": null,
      "_view_module": "@jupyter-widgets/base",
      "_view_module_version": "1.2.0",
      "_view_name": "LayoutView",
      "align_content": null,
      "align_items": null,
      "align_self": null,
      "border": null,
      "bottom": null,
      "display": null,
      "flex": null,
      "flex_flow": null,
      "grid_area": null,
      "grid_auto_columns": null,
      "grid_auto_flow": null,
      "grid_auto_rows": null,
      "grid_column": null,
      "grid_gap": null,
      "grid_row": null,
      "grid_template_areas": null,
      "grid_template_columns": null,
      "grid_template_rows": null,
      "height": null,
      "justify_content": null,
      "justify_items": null,
      "left": null,
      "margin": null,
      "max_height": null,
      "max_width": null,
      "min_height": null,
      "min_width": null,
      "object_fit": null,
      "object_position": null,
      "order": null,
      "overflow": null,
      "overflow_x": null,
      "overflow_y": null,
      "padding": null,
      "right": null,
      "top": null,
      "visibility": null,
      "width": null
     }
    },
    "3d93c9bf7c824b3cbdd952e6622f93eb": {
     "model_module": "@jupyter-widgets/controls",
     "model_name": "FloatProgressModel",
     "state": {
      "_dom_classes": [],
      "_model_module": "@jupyter-widgets/controls",
      "_model_module_version": "1.5.0",
      "_model_name": "FloatProgressModel",
      "_view_count": null,
      "_view_module": "@jupyter-widgets/controls",
      "_view_module_version": "1.5.0",
      "_view_name": "ProgressView",
      "bar_style": "danger",
      "description": " 30%",
      "description_tooltip": null,
      "layout": "IPY_MODEL_25130efb069a4f939876105712d4560a",
      "max": 51785,
      "min": 0,
      "orientation": "horizontal",
      "style": "IPY_MODEL_df4a8fc4c4f0400f9b3b2d21f0db8a4e",
      "value": 15716
     }
    },
    "3f51a156840b473793c62ebc665c66b0": {
     "model_module": "@jupyter-widgets/base",
     "model_name": "LayoutModel",
     "state": {
      "_model_module": "@jupyter-widgets/base",
      "_model_module_version": "1.2.0",
      "_model_name": "LayoutModel",
      "_view_count": null,
      "_view_module": "@jupyter-widgets/base",
      "_view_module_version": "1.2.0",
      "_view_name": "LayoutView",
      "align_content": null,
      "align_items": null,
      "align_self": null,
      "border": null,
      "bottom": null,
      "display": null,
      "flex": null,
      "flex_flow": null,
      "grid_area": null,
      "grid_auto_columns": null,
      "grid_auto_flow": null,
      "grid_auto_rows": null,
      "grid_column": null,
      "grid_gap": null,
      "grid_row": null,
      "grid_template_areas": null,
      "grid_template_columns": null,
      "grid_template_rows": null,
      "height": null,
      "justify_content": null,
      "justify_items": null,
      "left": null,
      "margin": null,
      "max_height": null,
      "max_width": null,
      "min_height": null,
      "min_width": null,
      "object_fit": null,
      "object_position": null,
      "order": null,
      "overflow": null,
      "overflow_x": null,
      "overflow_y": null,
      "padding": null,
      "right": null,
      "top": null,
      "visibility": null,
      "width": null
     }
    },
    "3f8a500d25d0481ea3e93e4dba07f6f7": {
     "model_module": "@jupyter-widgets/controls",
     "model_name": "ProgressStyleModel",
     "state": {
      "_model_module": "@jupyter-widgets/controls",
      "_model_module_version": "1.5.0",
      "_model_name": "ProgressStyleModel",
      "_view_count": null,
      "_view_module": "@jupyter-widgets/base",
      "_view_module_version": "1.2.0",
      "_view_name": "StyleView",
      "bar_color": null,
      "description_width": "initial"
     }
    },
    "4796f3403d9d442aba86e3e89a548e78": {
     "model_module": "@jupyter-widgets/controls",
     "model_name": "ProgressStyleModel",
     "state": {
      "_model_module": "@jupyter-widgets/controls",
      "_model_module_version": "1.5.0",
      "_model_name": "ProgressStyleModel",
      "_view_count": null,
      "_view_module": "@jupyter-widgets/base",
      "_view_module_version": "1.2.0",
      "_view_name": "StyleView",
      "bar_color": null,
      "description_width": "initial"
     }
    },
    "4805474a54c14b808da66510a6fd4b2e": {
     "model_module": "@jupyter-widgets/controls",
     "model_name": "FloatProgressModel",
     "state": {
      "_dom_classes": [],
      "_model_module": "@jupyter-widgets/controls",
      "_model_module_version": "1.5.0",
      "_model_name": "FloatProgressModel",
      "_view_count": null,
      "_view_module": "@jupyter-widgets/controls",
      "_view_module_version": "1.5.0",
      "_view_name": "ProgressView",
      "bar_style": "danger",
      "description": "  0%",
      "description_tooltip": null,
      "layout": "IPY_MODEL_c0bb7d61ba6d47169296528ec60a7abd",
      "max": 1193,
      "min": 0,
      "orientation": "horizontal",
      "style": "IPY_MODEL_3f8a500d25d0481ea3e93e4dba07f6f7",
      "value": 0
     }
    },
    "4b57a63b85db41db831383a430c4c57b": {
     "model_module": "@jupyter-widgets/base",
     "model_name": "LayoutModel",
     "state": {
      "_model_module": "@jupyter-widgets/base",
      "_model_module_version": "1.2.0",
      "_model_name": "LayoutModel",
      "_view_count": null,
      "_view_module": "@jupyter-widgets/base",
      "_view_module_version": "1.2.0",
      "_view_name": "LayoutView",
      "align_content": null,
      "align_items": null,
      "align_self": null,
      "border": null,
      "bottom": null,
      "display": null,
      "flex": null,
      "flex_flow": null,
      "grid_area": null,
      "grid_auto_columns": null,
      "grid_auto_flow": null,
      "grid_auto_rows": null,
      "grid_column": null,
      "grid_gap": null,
      "grid_row": null,
      "grid_template_areas": null,
      "grid_template_columns": null,
      "grid_template_rows": null,
      "height": null,
      "justify_content": null,
      "justify_items": null,
      "left": null,
      "margin": null,
      "max_height": null,
      "max_width": null,
      "min_height": null,
      "min_width": null,
      "object_fit": null,
      "object_position": null,
      "order": null,
      "overflow": null,
      "overflow_x": null,
      "overflow_y": null,
      "padding": null,
      "right": null,
      "top": null,
      "visibility": null,
      "width": null
     }
    },
    "4e00b52f16b741a5b07704331875fac7": {
     "model_module": "@jupyter-widgets/base",
     "model_name": "LayoutModel",
     "state": {
      "_model_module": "@jupyter-widgets/base",
      "_model_module_version": "1.2.0",
      "_model_name": "LayoutModel",
      "_view_count": null,
      "_view_module": "@jupyter-widgets/base",
      "_view_module_version": "1.2.0",
      "_view_name": "LayoutView",
      "align_content": null,
      "align_items": null,
      "align_self": null,
      "border": null,
      "bottom": null,
      "display": null,
      "flex": null,
      "flex_flow": null,
      "grid_area": null,
      "grid_auto_columns": null,
      "grid_auto_flow": null,
      "grid_auto_rows": null,
      "grid_column": null,
      "grid_gap": null,
      "grid_row": null,
      "grid_template_areas": null,
      "grid_template_columns": null,
      "grid_template_rows": null,
      "height": null,
      "justify_content": null,
      "justify_items": null,
      "left": null,
      "margin": null,
      "max_height": null,
      "max_width": null,
      "min_height": null,
      "min_width": null,
      "object_fit": null,
      "object_position": null,
      "order": null,
      "overflow": null,
      "overflow_x": null,
      "overflow_y": null,
      "padding": null,
      "right": null,
      "top": null,
      "visibility": null,
      "width": null
     }
    },
    "5105f6f7961a42dd8b1c1641468aae93": {
     "model_module": "@jupyter-widgets/base",
     "model_name": "LayoutModel",
     "state": {
      "_model_module": "@jupyter-widgets/base",
      "_model_module_version": "1.2.0",
      "_model_name": "LayoutModel",
      "_view_count": null,
      "_view_module": "@jupyter-widgets/base",
      "_view_module_version": "1.2.0",
      "_view_name": "LayoutView",
      "align_content": null,
      "align_items": null,
      "align_self": null,
      "border": null,
      "bottom": null,
      "display": null,
      "flex": null,
      "flex_flow": null,
      "grid_area": null,
      "grid_auto_columns": null,
      "grid_auto_flow": null,
      "grid_auto_rows": null,
      "grid_column": null,
      "grid_gap": null,
      "grid_row": null,
      "grid_template_areas": null,
      "grid_template_columns": null,
      "grid_template_rows": null,
      "height": null,
      "justify_content": null,
      "justify_items": null,
      "left": null,
      "margin": null,
      "max_height": null,
      "max_width": null,
      "min_height": null,
      "min_width": null,
      "object_fit": null,
      "object_position": null,
      "order": null,
      "overflow": null,
      "overflow_x": null,
      "overflow_y": null,
      "padding": null,
      "right": null,
      "top": null,
      "visibility": null,
      "width": null
     }
    },
    "5154964743c849dcb940410c27199d29": {
     "model_module": "@jupyter-widgets/controls",
     "model_name": "DescriptionStyleModel",
     "state": {
      "_model_module": "@jupyter-widgets/controls",
      "_model_module_version": "1.5.0",
      "_model_name": "DescriptionStyleModel",
      "_view_count": null,
      "_view_module": "@jupyter-widgets/base",
      "_view_module_version": "1.2.0",
      "_view_name": "StyleView",
      "description_width": ""
     }
    },
    "551f91df15644ea4a458cc7577bbad13": {
     "model_module": "@jupyter-widgets/controls",
     "model_name": "HTMLModel",
     "state": {
      "_dom_classes": [],
      "_model_module": "@jupyter-widgets/controls",
      "_model_module_version": "1.5.0",
      "_model_name": "HTMLModel",
      "_view_count": null,
      "_view_module": "@jupyter-widgets/controls",
      "_view_module_version": "1.5.0",
      "_view_name": "HTMLView",
      "description": "",
      "description_tooltip": null,
      "layout": "IPY_MODEL_04e1e92ec43b43159d67d6568a91daa4",
      "placeholder": "​",
      "style": "IPY_MODEL_d94e443bd1ad4b81a0043e774b9dd97a",
      "value": " 1/1 [00:07&lt;00:00,  7.73s/ file]"
     }
    },
    "55bab0fc4cd24114b2f7a89d4c5db846": {
     "model_module": "@jupyter-widgets/controls",
     "model_name": "HTMLModel",
     "state": {
      "_dom_classes": [],
      "_model_module": "@jupyter-widgets/controls",
      "_model_module_version": "1.5.0",
      "_model_name": "HTMLModel",
      "_view_count": null,
      "_view_module": "@jupyter-widgets/controls",
      "_view_module_version": "1.5.0",
      "_view_name": "HTMLView",
      "description": "",
      "description_tooltip": null,
      "layout": "IPY_MODEL_30b7ee0db33b4b6e9843eabdaf5c2603",
      "placeholder": "​",
      "style": "IPY_MODEL_37f6c5c8cce049ec88988a838f347300",
      "value": " 0/1803 [00:05&lt;?, ? examples/s]"
     }
    },
    "59281734445e4727a39ddf637935a491": {
     "model_module": "@jupyter-widgets/base",
     "model_name": "LayoutModel",
     "state": {
      "_model_module": "@jupyter-widgets/base",
      "_model_module_version": "1.2.0",
      "_model_name": "LayoutModel",
      "_view_count": null,
      "_view_module": "@jupyter-widgets/base",
      "_view_module_version": "1.2.0",
      "_view_name": "LayoutView",
      "align_content": null,
      "align_items": null,
      "align_self": null,
      "border": null,
      "bottom": null,
      "display": null,
      "flex": null,
      "flex_flow": null,
      "grid_area": null,
      "grid_auto_columns": null,
      "grid_auto_flow": null,
      "grid_auto_rows": null,
      "grid_column": null,
      "grid_gap": null,
      "grid_row": null,
      "grid_template_areas": null,
      "grid_template_columns": null,
      "grid_template_rows": null,
      "height": null,
      "justify_content": null,
      "justify_items": null,
      "left": null,
      "margin": null,
      "max_height": null,
      "max_width": null,
      "min_height": null,
      "min_width": null,
      "object_fit": null,
      "object_position": null,
      "order": null,
      "overflow": null,
      "overflow_x": null,
      "overflow_y": null,
      "padding": null,
      "right": null,
      "top": null,
      "visibility": null,
      "width": null
     }
    },
    "5cb236dd791b470ebdbae7cfbe8ba2d9": {
     "model_module": "@jupyter-widgets/controls",
     "model_name": "DescriptionStyleModel",
     "state": {
      "_model_module": "@jupyter-widgets/controls",
      "_model_module_version": "1.5.0",
      "_model_name": "DescriptionStyleModel",
      "_view_count": null,
      "_view_module": "@jupyter-widgets/base",
      "_view_module_version": "1.2.0",
      "_view_name": "StyleView",
      "description_width": ""
     }
    },
    "663b19097f41484683f2767d61a328ff": {
     "model_module": "@jupyter-widgets/controls",
     "model_name": "HBoxModel",
     "state": {
      "_dom_classes": [],
      "_model_module": "@jupyter-widgets/controls",
      "_model_module_version": "1.5.0",
      "_model_name": "HBoxModel",
      "_view_count": null,
      "_view_module": "@jupyter-widgets/controls",
      "_view_module_version": "1.5.0",
      "_view_name": "HBoxView",
      "box_style": "",
      "children": [
       "IPY_MODEL_a7d70d468fd3439cb01ec004157dcc8a",
       "IPY_MODEL_da3058c5ccbd4125ba1042cac328a184"
      ],
      "layout": "IPY_MODEL_fc80a3992bbd469190ec0c69503d6768"
     }
    },
    "6bf6915ba9394ce2b01c1728cd5abf88": {
     "model_module": "@jupyter-widgets/controls",
     "model_name": "HBoxModel",
     "state": {
      "_dom_classes": [],
      "_model_module": "@jupyter-widgets/controls",
      "_model_module_version": "1.5.0",
      "_model_name": "HBoxModel",
      "_view_count": null,
      "_view_module": "@jupyter-widgets/controls",
      "_view_module_version": "1.5.0",
      "_view_name": "HBoxView",
      "box_style": "",
      "children": [
       "IPY_MODEL_0ded62ba1bc34ccd9487a52638fc6b44",
       "IPY_MODEL_551f91df15644ea4a458cc7577bbad13"
      ],
      "layout": "IPY_MODEL_a90dab1524c04363abcb11c42cb87c7d"
     }
    },
    "6cf4f54720cc4153aff0698c87d8db75": {
     "model_module": "@jupyter-widgets/controls",
     "model_name": "HTMLModel",
     "state": {
      "_dom_classes": [],
      "_model_module": "@jupyter-widgets/controls",
      "_model_module_version": "1.5.0",
      "_model_name": "HTMLModel",
      "_view_count": null,
      "_view_module": "@jupyter-widgets/controls",
      "_view_module_version": "1.5.0",
      "_view_name": "HTMLView",
      "description": "",
      "description_tooltip": null,
      "layout": "IPY_MODEL_c434095877e24bbaa874c0f4f6ddb0dd",
      "placeholder": "​",
      "style": "IPY_MODEL_5cb236dd791b470ebdbae7cfbe8ba2d9",
      "value": " 0/1193 [00:00&lt;?, ? examples/s]"
     }
    },
    "7822966afe964013a1d3e62f395c12b1": {
     "model_module": "@jupyter-widgets/controls",
     "model_name": "FloatProgressModel",
     "state": {
      "_dom_classes": [],
      "_model_module": "@jupyter-widgets/controls",
      "_model_module_version": "1.5.0",
      "_model_name": "FloatProgressModel",
      "_view_count": null,
      "_view_module": "@jupyter-widgets/controls",
      "_view_module_version": "1.5.0",
      "_view_name": "ProgressView",
      "bar_style": "info",
      "description": "",
      "description_tooltip": null,
      "layout": "IPY_MODEL_59281734445e4727a39ddf637935a491",
      "max": 1,
      "min": 0,
      "orientation": "horizontal",
      "style": "IPY_MODEL_0e4dcabef1f44bd1a5cd9c9a130b73b1",
      "value": 1
     }
    },
    "7b1879bbfc0040a89178df6c6d29190a": {
     "model_module": "@jupyter-widgets/controls",
     "model_name": "HBoxModel",
     "state": {
      "_dom_classes": [],
      "_model_module": "@jupyter-widgets/controls",
      "_model_module_version": "1.5.0",
      "_model_name": "HBoxModel",
      "_view_count": null,
      "_view_module": "@jupyter-widgets/controls",
      "_view_module_version": "1.5.0",
      "_view_name": "HBoxView",
      "box_style": "",
      "children": [
       "IPY_MODEL_17b29df8743e4b1eba2aa701e74c2473",
       "IPY_MODEL_55bab0fc4cd24114b2f7a89d4c5db846"
      ],
      "layout": "IPY_MODEL_e6a36a2f4e1f444fabba8469b6ce2da3"
     }
    },
    "8d4009f4337c4ba19fa54cc7695acefc": {
     "model_module": "@jupyter-widgets/controls",
     "model_name": "HBoxModel",
     "state": {
      "_dom_classes": [],
      "_model_module": "@jupyter-widgets/controls",
      "_model_module_version": "1.5.0",
      "_model_name": "HBoxModel",
      "_view_count": null,
      "_view_module": "@jupyter-widgets/controls",
      "_view_module_version": "1.5.0",
      "_view_name": "HBoxView",
      "box_style": "",
      "children": [
       "IPY_MODEL_3d93c9bf7c824b3cbdd952e6622f93eb",
       "IPY_MODEL_94a7d11be5c74f3b92e2b903422bd445"
      ],
      "layout": "IPY_MODEL_187e2f4575984e9c996ed133fe2f9f67"
     }
    },
    "94a7d11be5c74f3b92e2b903422bd445": {
     "model_module": "@jupyter-widgets/controls",
     "model_name": "HTMLModel",
     "state": {
      "_dom_classes": [],
      "_model_module": "@jupyter-widgets/controls",
      "_model_module_version": "1.5.0",
      "_model_name": "HTMLModel",
      "_view_count": null,
      "_view_module": "@jupyter-widgets/controls",
      "_view_module_version": "1.5.0",
      "_view_name": "HTMLView",
      "description": "",
      "description_tooltip": null,
      "layout": "IPY_MODEL_073a7c3735e34ee3b192524542a8c032",
      "placeholder": "​",
      "style": "IPY_MODEL_2ee71383ec34445883299bba8ccaaea1",
      "value": " 15716/51785 [00:00&lt;00:00, 157159.40 examples/s]"
     }
    },
    "9872c541d590405ebf0e053f4ddc6efd": {
     "model_module": "@jupyter-widgets/controls",
     "model_name": "DescriptionStyleModel",
     "state": {
      "_model_module": "@jupyter-widgets/controls",
      "_model_module_version": "1.5.0",
      "_model_name": "DescriptionStyleModel",
      "_view_count": null,
      "_view_module": "@jupyter-widgets/base",
      "_view_module_version": "1.2.0",
      "_view_name": "StyleView",
      "description_width": ""
     }
    },
    "9a3d43bea641415a9a922e0f596db32c": {
     "model_module": "@jupyter-widgets/controls",
     "model_name": "FloatProgressModel",
     "state": {
      "_dom_classes": [],
      "_model_module": "@jupyter-widgets/controls",
      "_model_module_version": "1.5.0",
      "_model_name": "FloatProgressModel",
      "_view_count": null,
      "_view_module": "@jupyter-widgets/controls",
      "_view_module_version": "1.5.0",
      "_view_name": "ProgressView",
      "bar_style": "info",
      "description": "",
      "description_tooltip": null,
      "layout": "IPY_MODEL_2667f83a7515487887b2ad3cba0418ba",
      "max": 1,
      "min": 0,
      "orientation": "horizontal",
      "style": "IPY_MODEL_a7c499a710394864b8591ac30710f2ab",
      "value": 1
     }
    },
    "a19f280229044478909fb90c5d5eb6e1": {
     "model_module": "@jupyter-widgets/controls",
     "model_name": "DescriptionStyleModel",
     "state": {
      "_model_module": "@jupyter-widgets/controls",
      "_model_module_version": "1.5.0",
      "_model_name": "DescriptionStyleModel",
      "_view_count": null,
      "_view_module": "@jupyter-widgets/base",
      "_view_module_version": "1.2.0",
      "_view_name": "StyleView",
      "description_width": ""
     }
    },
    "a29eab51abe745a6a9436ea79fccc27d": {
     "model_module": "@jupyter-widgets/controls",
     "model_name": "ProgressStyleModel",
     "state": {
      "_model_module": "@jupyter-widgets/controls",
      "_model_module_version": "1.5.0",
      "_model_name": "ProgressStyleModel",
      "_view_count": null,
      "_view_module": "@jupyter-widgets/base",
      "_view_module_version": "1.2.0",
      "_view_name": "StyleView",
      "bar_color": null,
      "description_width": "initial"
     }
    },
    "a7c499a710394864b8591ac30710f2ab": {
     "model_module": "@jupyter-widgets/controls",
     "model_name": "ProgressStyleModel",
     "state": {
      "_model_module": "@jupyter-widgets/controls",
      "_model_module_version": "1.5.0",
      "_model_name": "ProgressStyleModel",
      "_view_count": null,
      "_view_module": "@jupyter-widgets/base",
      "_view_module_version": "1.2.0",
      "_view_name": "StyleView",
      "bar_color": null,
      "description_width": "initial"
     }
    },
    "a7d70d468fd3439cb01ec004157dcc8a": {
     "model_module": "@jupyter-widgets/controls",
     "model_name": "FloatProgressModel",
     "state": {
      "_dom_classes": [],
      "_model_module": "@jupyter-widgets/controls",
      "_model_module_version": "1.5.0",
      "_model_name": "FloatProgressModel",
      "_view_count": null,
      "_view_module": "@jupyter-widgets/controls",
      "_view_module_version": "1.5.0",
      "_view_name": "ProgressView",
      "bar_style": "info",
      "description": "",
      "description_tooltip": null,
      "layout": "IPY_MODEL_070b63dfbb94477abd1721e975ce9d74",
      "max": 1,
      "min": 0,
      "orientation": "horizontal",
      "style": "IPY_MODEL_c8d321cf541b452eb847e58059d83f53",
      "value": 1
     }
    },
    "a90dab1524c04363abcb11c42cb87c7d": {
     "model_module": "@jupyter-widgets/base",
     "model_name": "LayoutModel",
     "state": {
      "_model_module": "@jupyter-widgets/base",
      "_model_module_version": "1.2.0",
      "_model_name": "LayoutModel",
      "_view_count": null,
      "_view_module": "@jupyter-widgets/base",
      "_view_module_version": "1.2.0",
      "_view_name": "LayoutView",
      "align_content": null,
      "align_items": null,
      "align_self": null,
      "border": null,
      "bottom": null,
      "display": null,
      "flex": null,
      "flex_flow": null,
      "grid_area": null,
      "grid_auto_columns": null,
      "grid_auto_flow": null,
      "grid_auto_rows": null,
      "grid_column": null,
      "grid_gap": null,
      "grid_row": null,
      "grid_template_areas": null,
      "grid_template_columns": null,
      "grid_template_rows": null,
      "height": null,
      "justify_content": null,
      "justify_items": null,
      "left": null,
      "margin": null,
      "max_height": null,
      "max_width": null,
      "min_height": null,
      "min_width": null,
      "object_fit": null,
      "object_position": null,
      "order": null,
      "overflow": null,
      "overflow_x": null,
      "overflow_y": null,
      "padding": null,
      "right": null,
      "top": null,
      "visibility": null,
      "width": null
     }
    },
    "b37ca6d55412458e8737e0d646190dc6": {
     "model_module": "@jupyter-widgets/controls",
     "model_name": "HBoxModel",
     "state": {
      "_dom_classes": [],
      "_model_module": "@jupyter-widgets/controls",
      "_model_module_version": "1.5.0",
      "_model_name": "HBoxModel",
      "_view_count": null,
      "_view_module": "@jupyter-widgets/controls",
      "_view_module_version": "1.5.0",
      "_view_name": "HBoxView",
      "box_style": "",
      "children": [
       "IPY_MODEL_c4bbff97bd7e47eb9af980d2e9bcf3fc",
       "IPY_MODEL_dd33d6e26ef14b0e9c3779b0c4dd2c50"
      ],
      "layout": "IPY_MODEL_36cbbe64fa8b4f0481cdcb0492ce003c"
     }
    },
    "ba232a2b60be45c4aa609a4af3ee8892": {
     "model_module": "@jupyter-widgets/controls",
     "model_name": "HTMLModel",
     "state": {
      "_dom_classes": [],
      "_model_module": "@jupyter-widgets/controls",
      "_model_module_version": "1.5.0",
      "_model_name": "HTMLModel",
      "_view_count": null,
      "_view_module": "@jupyter-widgets/controls",
      "_view_module_version": "1.5.0",
      "_view_name": "HTMLView",
      "description": "",
      "description_tooltip": null,
      "layout": "IPY_MODEL_4b57a63b85db41db831383a430c4c57b",
      "placeholder": "​",
      "style": "IPY_MODEL_2ec3c9da89284083bb0eb5ad5e47cb7f",
      "value": " 1/1 [00:07&lt;00:00,  7.81s/ url]"
     }
    },
    "c0bb7d61ba6d47169296528ec60a7abd": {
     "model_module": "@jupyter-widgets/base",
     "model_name": "LayoutModel",
     "state": {
      "_model_module": "@jupyter-widgets/base",
      "_model_module_version": "1.2.0",
      "_model_name": "LayoutModel",
      "_view_count": null,
      "_view_module": "@jupyter-widgets/base",
      "_view_module_version": "1.2.0",
      "_view_name": "LayoutView",
      "align_content": null,
      "align_items": null,
      "align_self": null,
      "border": null,
      "bottom": null,
      "display": null,
      "flex": null,
      "flex_flow": null,
      "grid_area": null,
      "grid_auto_columns": null,
      "grid_auto_flow": null,
      "grid_auto_rows": null,
      "grid_column": null,
      "grid_gap": null,
      "grid_row": null,
      "grid_template_areas": null,
      "grid_template_columns": null,
      "grid_template_rows": null,
      "height": null,
      "justify_content": null,
      "justify_items": null,
      "left": null,
      "margin": null,
      "max_height": null,
      "max_width": null,
      "min_height": null,
      "min_width": null,
      "object_fit": null,
      "object_position": null,
      "order": null,
      "overflow": null,
      "overflow_x": null,
      "overflow_y": null,
      "padding": null,
      "right": null,
      "top": null,
      "visibility": null,
      "width": null
     }
    },
    "c434095877e24bbaa874c0f4f6ddb0dd": {
     "model_module": "@jupyter-widgets/base",
     "model_name": "LayoutModel",
     "state": {
      "_model_module": "@jupyter-widgets/base",
      "_model_module_version": "1.2.0",
      "_model_name": "LayoutModel",
      "_view_count": null,
      "_view_module": "@jupyter-widgets/base",
      "_view_module_version": "1.2.0",
      "_view_name": "LayoutView",
      "align_content": null,
      "align_items": null,
      "align_self": null,
      "border": null,
      "bottom": null,
      "display": null,
      "flex": null,
      "flex_flow": null,
      "grid_area": null,
      "grid_auto_columns": null,
      "grid_auto_flow": null,
      "grid_auto_rows": null,
      "grid_column": null,
      "grid_gap": null,
      "grid_row": null,
      "grid_template_areas": null,
      "grid_template_columns": null,
      "grid_template_rows": null,
      "height": null,
      "justify_content": null,
      "justify_items": null,
      "left": null,
      "margin": null,
      "max_height": null,
      "max_width": null,
      "min_height": null,
      "min_width": null,
      "object_fit": null,
      "object_position": null,
      "order": null,
      "overflow": null,
      "overflow_x": null,
      "overflow_y": null,
      "padding": null,
      "right": null,
      "top": null,
      "visibility": null,
      "width": null
     }
    },
    "c4bbff97bd7e47eb9af980d2e9bcf3fc": {
     "model_module": "@jupyter-widgets/controls",
     "model_name": "FloatProgressModel",
     "state": {
      "_dom_classes": [],
      "_model_module": "@jupyter-widgets/controls",
      "_model_module_version": "1.5.0",
      "_model_name": "FloatProgressModel",
      "_view_count": null,
      "_view_module": "@jupyter-widgets/controls",
      "_view_module_version": "1.5.0",
      "_view_name": "ProgressView",
      "bar_style": "success",
      "description": "Dl Size...: 100%",
      "description_tooltip": null,
      "layout": "IPY_MODEL_275a65ed955c4f6d9732a5f6aa918305",
      "max": 1,
      "min": 0,
      "orientation": "horizontal",
      "style": "IPY_MODEL_1dac0439196a4e69bbe2bb44fd76e6b5",
      "value": 1
     }
    },
    "c8d321cf541b452eb847e58059d83f53": {
     "model_module": "@jupyter-widgets/controls",
     "model_name": "ProgressStyleModel",
     "state": {
      "_model_module": "@jupyter-widgets/controls",
      "_model_module_version": "1.5.0",
      "_model_name": "ProgressStyleModel",
      "_view_count": null,
      "_view_module": "@jupyter-widgets/base",
      "_view_module_version": "1.2.0",
      "_view_name": "StyleView",
      "bar_color": null,
      "description_width": "initial"
     }
    },
    "d4ad6af698d24a9b88715af146fdca3e": {
     "model_module": "@jupyter-widgets/controls",
     "model_name": "HBoxModel",
     "state": {
      "_dom_classes": [],
      "_model_module": "@jupyter-widgets/controls",
      "_model_module_version": "1.5.0",
      "_model_name": "HBoxModel",
      "_view_count": null,
      "_view_module": "@jupyter-widgets/controls",
      "_view_module_version": "1.5.0",
      "_view_name": "HBoxView",
      "box_style": "",
      "children": [
       "IPY_MODEL_9a3d43bea641415a9a922e0f596db32c",
       "IPY_MODEL_e03a89f86da843788959ac1155b649f0"
      ],
      "layout": "IPY_MODEL_5105f6f7961a42dd8b1c1641468aae93"
     }
    },
    "d93460313a454511823dd7221796f712": {
     "model_module": "@jupyter-widgets/base",
     "model_name": "LayoutModel",
     "state": {
      "_model_module": "@jupyter-widgets/base",
      "_model_module_version": "1.2.0",
      "_model_name": "LayoutModel",
      "_view_count": null,
      "_view_module": "@jupyter-widgets/base",
      "_view_module_version": "1.2.0",
      "_view_name": "LayoutView",
      "align_content": null,
      "align_items": null,
      "align_self": null,
      "border": null,
      "bottom": null,
      "display": null,
      "flex": null,
      "flex_flow": null,
      "grid_area": null,
      "grid_auto_columns": null,
      "grid_auto_flow": null,
      "grid_auto_rows": null,
      "grid_column": null,
      "grid_gap": null,
      "grid_row": null,
      "grid_template_areas": null,
      "grid_template_columns": null,
      "grid_template_rows": null,
      "height": null,
      "justify_content": null,
      "justify_items": null,
      "left": null,
      "margin": null,
      "max_height": null,
      "max_width": null,
      "min_height": null,
      "min_width": null,
      "object_fit": null,
      "object_position": null,
      "order": null,
      "overflow": null,
      "overflow_x": null,
      "overflow_y": null,
      "padding": null,
      "right": null,
      "top": null,
      "visibility": null,
      "width": null
     }
    },
    "d94e443bd1ad4b81a0043e774b9dd97a": {
     "model_module": "@jupyter-widgets/controls",
     "model_name": "DescriptionStyleModel",
     "state": {
      "_model_module": "@jupyter-widgets/controls",
      "_model_module_version": "1.5.0",
      "_model_name": "DescriptionStyleModel",
      "_view_count": null,
      "_view_module": "@jupyter-widgets/base",
      "_view_module_version": "1.2.0",
      "_view_name": "StyleView",
      "description_width": ""
     }
    },
    "d9dd6dae919243bfa86423d1fe9cc9ed": {
     "model_module": "@jupyter-widgets/base",
     "model_name": "LayoutModel",
     "state": {
      "_model_module": "@jupyter-widgets/base",
      "_model_module_version": "1.2.0",
      "_model_name": "LayoutModel",
      "_view_count": null,
      "_view_module": "@jupyter-widgets/base",
      "_view_module_version": "1.2.0",
      "_view_name": "LayoutView",
      "align_content": null,
      "align_items": null,
      "align_self": null,
      "border": null,
      "bottom": null,
      "display": null,
      "flex": null,
      "flex_flow": null,
      "grid_area": null,
      "grid_auto_columns": null,
      "grid_auto_flow": null,
      "grid_auto_rows": null,
      "grid_column": null,
      "grid_gap": null,
      "grid_row": null,
      "grid_template_areas": null,
      "grid_template_columns": null,
      "grid_template_rows": null,
      "height": null,
      "justify_content": null,
      "justify_items": null,
      "left": null,
      "margin": null,
      "max_height": null,
      "max_width": null,
      "min_height": null,
      "min_width": null,
      "object_fit": null,
      "object_position": null,
      "order": null,
      "overflow": null,
      "overflow_x": null,
      "overflow_y": null,
      "padding": null,
      "right": null,
      "top": null,
      "visibility": null,
      "width": null
     }
    },
    "da3058c5ccbd4125ba1042cac328a184": {
     "model_module": "@jupyter-widgets/controls",
     "model_name": "HTMLModel",
     "state": {
      "_dom_classes": [],
      "_model_module": "@jupyter-widgets/controls",
      "_model_module_version": "1.5.0",
      "_model_name": "HTMLModel",
      "_view_count": null,
      "_view_module": "@jupyter-widgets/controls",
      "_view_module_version": "1.5.0",
      "_view_name": "HTMLView",
      "description": "",
      "description_tooltip": null,
      "layout": "IPY_MODEL_eb9d622fc2384948887ed0e3ecf71d96",
      "placeholder": "​",
      "style": "IPY_MODEL_2f386c054d374babb7cb5f7f359232fb",
      "value": " 51785/0 [00:06&lt;00:00, 7405.18 examples/s]"
     }
    },
    "dd33d6e26ef14b0e9c3779b0c4dd2c50": {
     "model_module": "@jupyter-widgets/controls",
     "model_name": "HTMLModel",
     "state": {
      "_dom_classes": [],
      "_model_module": "@jupyter-widgets/controls",
      "_model_module_version": "1.5.0",
      "_model_name": "HTMLModel",
      "_view_count": null,
      "_view_module": "@jupyter-widgets/controls",
      "_view_module_version": "1.5.0",
      "_view_name": "HTMLView",
      "description": "",
      "description_tooltip": null,
      "layout": "IPY_MODEL_3b0243d7a777471b8eb2270b997b5886",
      "placeholder": "​",
      "style": "IPY_MODEL_a19f280229044478909fb90c5d5eb6e1",
      "value": " 124/124 [00:07&lt;00:00, 15.92 MiB/s]"
     }
    },
    "df4a8fc4c4f0400f9b3b2d21f0db8a4e": {
     "model_module": "@jupyter-widgets/controls",
     "model_name": "ProgressStyleModel",
     "state": {
      "_model_module": "@jupyter-widgets/controls",
      "_model_module_version": "1.5.0",
      "_model_name": "ProgressStyleModel",
      "_view_count": null,
      "_view_module": "@jupyter-widgets/base",
      "_view_module_version": "1.2.0",
      "_view_name": "StyleView",
      "bar_color": null,
      "description_width": "initial"
     }
    },
    "e03a89f86da843788959ac1155b649f0": {
     "model_module": "@jupyter-widgets/controls",
     "model_name": "HTMLModel",
     "state": {
      "_dom_classes": [],
      "_model_module": "@jupyter-widgets/controls",
      "_model_module_version": "1.5.0",
      "_model_name": "HTMLModel",
      "_view_count": null,
      "_view_module": "@jupyter-widgets/controls",
      "_view_module_version": "1.5.0",
      "_view_name": "HTMLView",
      "description": "",
      "description_tooltip": null,
      "layout": "IPY_MODEL_fe67359ec0084772b1dd3875a1a3c3b4",
      "placeholder": "​",
      "style": "IPY_MODEL_5154964743c849dcb940410c27199d29",
      "value": " 1803/0 [00:00&lt;00:00, 3611.88 examples/s]"
     }
    },
    "e6a36a2f4e1f444fabba8469b6ce2da3": {
     "model_module": "@jupyter-widgets/base",
     "model_name": "LayoutModel",
     "state": {
      "_model_module": "@jupyter-widgets/base",
      "_model_module_version": "1.2.0",
      "_model_name": "LayoutModel",
      "_view_count": null,
      "_view_module": "@jupyter-widgets/base",
      "_view_module_version": "1.2.0",
      "_view_name": "LayoutView",
      "align_content": null,
      "align_items": null,
      "align_self": null,
      "border": null,
      "bottom": null,
      "display": null,
      "flex": null,
      "flex_flow": null,
      "grid_area": null,
      "grid_auto_columns": null,
      "grid_auto_flow": null,
      "grid_auto_rows": null,
      "grid_column": null,
      "grid_gap": null,
      "grid_row": null,
      "grid_template_areas": null,
      "grid_template_columns": null,
      "grid_template_rows": null,
      "height": null,
      "justify_content": null,
      "justify_items": null,
      "left": null,
      "margin": null,
      "max_height": null,
      "max_width": null,
      "min_height": null,
      "min_width": null,
      "object_fit": null,
      "object_position": null,
      "order": null,
      "overflow": null,
      "overflow_x": null,
      "overflow_y": null,
      "padding": null,
      "right": null,
      "top": null,
      "visibility": null,
      "width": null
     }
    },
    "eb9d622fc2384948887ed0e3ecf71d96": {
     "model_module": "@jupyter-widgets/base",
     "model_name": "LayoutModel",
     "state": {
      "_model_module": "@jupyter-widgets/base",
      "_model_module_version": "1.2.0",
      "_model_name": "LayoutModel",
      "_view_count": null,
      "_view_module": "@jupyter-widgets/base",
      "_view_module_version": "1.2.0",
      "_view_name": "LayoutView",
      "align_content": null,
      "align_items": null,
      "align_self": null,
      "border": null,
      "bottom": null,
      "display": null,
      "flex": null,
      "flex_flow": null,
      "grid_area": null,
      "grid_auto_columns": null,
      "grid_auto_flow": null,
      "grid_auto_rows": null,
      "grid_column": null,
      "grid_gap": null,
      "grid_row": null,
      "grid_template_areas": null,
      "grid_template_columns": null,
      "grid_template_rows": null,
      "height": null,
      "justify_content": null,
      "justify_items": null,
      "left": null,
      "margin": null,
      "max_height": null,
      "max_width": null,
      "min_height": null,
      "min_width": null,
      "object_fit": null,
      "object_position": null,
      "order": null,
      "overflow": null,
      "overflow_x": null,
      "overflow_y": null,
      "padding": null,
      "right": null,
      "top": null,
      "visibility": null,
      "width": null
     }
    },
    "ef3ae2b3ecdb49cbb0773cfa4dfe2c03": {
     "model_module": "@jupyter-widgets/controls",
     "model_name": "HBoxModel",
     "state": {
      "_dom_classes": [],
      "_model_module": "@jupyter-widgets/controls",
      "_model_module_version": "1.5.0",
      "_model_name": "HBoxModel",
      "_view_count": null,
      "_view_module": "@jupyter-widgets/controls",
      "_view_module_version": "1.5.0",
      "_view_name": "HBoxView",
      "box_style": "",
      "children": [
       "IPY_MODEL_7822966afe964013a1d3e62f395c12b1",
       "IPY_MODEL_383f8249dac04494ae28a2129663943b"
      ],
      "layout": "IPY_MODEL_d93460313a454511823dd7221796f712"
     }
    },
    "f823543b8b0246aea96725f9b39619bd": {
     "model_module": "@jupyter-widgets/controls",
     "model_name": "FloatProgressModel",
     "state": {
      "_dom_classes": [],
      "_model_module": "@jupyter-widgets/controls",
      "_model_module_version": "1.5.0",
      "_model_name": "FloatProgressModel",
      "_view_count": null,
      "_view_module": "@jupyter-widgets/controls",
      "_view_module_version": "1.5.0",
      "_view_name": "ProgressView",
      "bar_style": "success",
      "description": "Dl Completed...: 100%",
      "description_tooltip": null,
      "layout": "IPY_MODEL_d9dd6dae919243bfa86423d1fe9cc9ed",
      "max": 1,
      "min": 0,
      "orientation": "horizontal",
      "style": "IPY_MODEL_a29eab51abe745a6a9436ea79fccc27d",
      "value": 1
     }
    },
    "fa288ebbff6d410ab05f4efc06b104e2": {
     "model_module": "@jupyter-widgets/base",
     "model_name": "LayoutModel",
     "state": {
      "_model_module": "@jupyter-widgets/base",
      "_model_module_version": "1.2.0",
      "_model_name": "LayoutModel",
      "_view_count": null,
      "_view_module": "@jupyter-widgets/base",
      "_view_module_version": "1.2.0",
      "_view_name": "LayoutView",
      "align_content": null,
      "align_items": null,
      "align_self": null,
      "border": null,
      "bottom": null,
      "display": null,
      "flex": null,
      "flex_flow": null,
      "grid_area": null,
      "grid_auto_columns": null,
      "grid_auto_flow": null,
      "grid_auto_rows": null,
      "grid_column": null,
      "grid_gap": null,
      "grid_row": null,
      "grid_template_areas": null,
      "grid_template_columns": null,
      "grid_template_rows": null,
      "height": null,
      "justify_content": null,
      "justify_items": null,
      "left": null,
      "margin": null,
      "max_height": null,
      "max_width": null,
      "min_height": null,
      "min_width": null,
      "object_fit": null,
      "object_position": null,
      "order": null,
      "overflow": null,
      "overflow_x": null,
      "overflow_y": null,
      "padding": null,
      "right": null,
      "top": null,
      "visibility": null,
      "width": null
     }
    },
    "fc80a3992bbd469190ec0c69503d6768": {
     "model_module": "@jupyter-widgets/base",
     "model_name": "LayoutModel",
     "state": {
      "_model_module": "@jupyter-widgets/base",
      "_model_module_version": "1.2.0",
      "_model_name": "LayoutModel",
      "_view_count": null,
      "_view_module": "@jupyter-widgets/base",
      "_view_module_version": "1.2.0",
      "_view_name": "LayoutView",
      "align_content": null,
      "align_items": null,
      "align_self": null,
      "border": null,
      "bottom": null,
      "display": null,
      "flex": null,
      "flex_flow": null,
      "grid_area": null,
      "grid_auto_columns": null,
      "grid_auto_flow": null,
      "grid_auto_rows": null,
      "grid_column": null,
      "grid_gap": null,
      "grid_row": null,
      "grid_template_areas": null,
      "grid_template_columns": null,
      "grid_template_rows": null,
      "height": null,
      "justify_content": null,
      "justify_items": null,
      "left": null,
      "margin": null,
      "max_height": null,
      "max_width": null,
      "min_height": null,
      "min_width": null,
      "object_fit": null,
      "object_position": null,
      "order": null,
      "overflow": null,
      "overflow_x": null,
      "overflow_y": null,
      "padding": null,
      "right": null,
      "top": null,
      "visibility": null,
      "width": null
     }
    },
    "fe67359ec0084772b1dd3875a1a3c3b4": {
     "model_module": "@jupyter-widgets/base",
     "model_name": "LayoutModel",
     "state": {
      "_model_module": "@jupyter-widgets/base",
      "_model_module_version": "1.2.0",
      "_model_name": "LayoutModel",
      "_view_count": null,
      "_view_module": "@jupyter-widgets/base",
      "_view_module_version": "1.2.0",
      "_view_name": "LayoutView",
      "align_content": null,
      "align_items": null,
      "align_self": null,
      "border": null,
      "bottom": null,
      "display": null,
      "flex": null,
      "flex_flow": null,
      "grid_area": null,
      "grid_auto_columns": null,
      "grid_auto_flow": null,
      "grid_auto_rows": null,
      "grid_column": null,
      "grid_gap": null,
      "grid_row": null,
      "grid_template_areas": null,
      "grid_template_columns": null,
      "grid_template_rows": null,
      "height": null,
      "justify_content": null,
      "justify_items": null,
      "left": null,
      "margin": null,
      "max_height": null,
      "max_width": null,
      "min_height": null,
      "min_width": null,
      "object_fit": null,
      "object_position": null,
      "order": null,
      "overflow": null,
      "overflow_x": null,
      "overflow_y": null,
      "padding": null,
      "right": null,
      "top": null,
      "visibility": null,
      "width": null
     }
    }
   }
  }
 },
 "nbformat": 4,
 "nbformat_minor": 1
}
